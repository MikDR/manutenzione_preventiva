{
  "cells": [
    {
      "cell_type": "code",
      "source": [
        "from google.colab import drive\n",
        "drive.mount('/content/drive')"
      ],
      "metadata": {
        "colab": {
          "base_uri": "https://localhost:8080/"
        },
        "id": "qYv-u2fzekNV",
        "outputId": "8a1f11b6-8a76-4e7b-c623-dfea7bcfb370"
      },
      "execution_count": null,
      "outputs": [
        {
          "output_type": "stream",
          "name": "stdout",
          "text": [
            "Mounted at /content/drive\n"
          ]
        }
      ]
    },
    {
      "cell_type": "code",
      "execution_count": null,
      "metadata": {
        "id": "Cm2QRjmRecZy"
      },
      "outputs": [],
      "source": [
        "import pandas as pd\n",
        "import os\n",
        "import numpy as np"
      ]
    },
    {
      "cell_type": "code",
      "execution_count": null,
      "metadata": {
        "colab": {
          "base_uri": "https://localhost:8080/"
        },
        "id": "siLA7COrecZ4",
        "outputId": "2638f704-7914-4aa5-b87d-8e21c08b6e01"
      },
      "outputs": [
        {
          "output_type": "stream",
          "name": "stdout",
          "text": [
            "211\n"
          ]
        }
      ],
      "source": [
        "i = 1\n",
        "cartella = r'/content/drive/MyDrive/Progetto_manutenzione/file_cut_training/Pitting_degradation_level_0 (Healthy)'\n",
        "lista = []\n",
        "for filename in os.listdir(cartella):\n",
        "    # Costruisci il percorso completo del file\n",
        "    percorso_file = os.path.join(cartella, filename)\n",
        "\n",
        "    # Leggi solo la terza colonna del file CSV in un DataFrame e assegna un nome dinamico\n",
        "\n",
        "    df= pd.read_csv(percorso_file, usecols=[0])\n",
        "    df.name = f\"df_{i}\"\n",
        "    lista.append(df[\"acc_X\"].values)\n",
        "    # Stampa le prime righe del DataFrame appena creato\n",
        "    #print(df.name)\n",
        "    #print(df.head())\n",
        "\n",
        "    i += 1\n",
        "print(len(lista))"
      ]
    },
    {
      "cell_type": "code",
      "execution_count": null,
      "metadata": {
        "colab": {
          "base_uri": "https://localhost:8080/"
        },
        "id": "q4YN91hAecZ6",
        "outputId": "25979ada-3863-4de5-e296-b1abdff71dbd"
      },
      "outputs": [
        {
          "output_type": "stream",
          "name": "stdout",
          "text": [
            "429\n"
          ]
        }
      ],
      "source": [
        "cartella = r'/content/drive/MyDrive/Progetto_manutenzione/file_cut_training/Pitting_degradation_level_1'\n",
        "for filename in os.listdir(cartella):\n",
        "    # Costruisci il percorso completo del file\n",
        "    percorso_file = os.path.join(cartella, filename)\n",
        "\n",
        "    # Leggi solo la terza colonna del file CSV in un DataFrame e assegna un nome dinamico\n",
        "\n",
        "    df= pd.read_csv(percorso_file, usecols=[0])\n",
        "    df.name = f\"df_{i}\"\n",
        "    lista.append(df[\"acc_X\"].values)\n",
        "    # Stampa le prime righe del DataFrame appena creato\n",
        "    #print(df.name)\n",
        "    #print(df.head())\n",
        "\n",
        "    i += 1\n",
        "print(len(lista))"
      ]
    },
    {
      "cell_type": "code",
      "execution_count": null,
      "metadata": {
        "colab": {
          "base_uri": "https://localhost:8080/",
          "height": 87
        },
        "id": "RaFFo8kWecZ6",
        "outputId": "f5702929-d861-4c7f-8881-c2b768b08c68"
      },
      "outputs": [
        {
          "output_type": "execute_result",
          "data": {
            "text/plain": [
              "'\\ncartella = r\\'/content/drive/MyDrive/Progetto_manutenzione/file_cut_training/Pitting_degradation_level_2\\'\\nfor filename in os.listdir(cartella):\\n    # Costruisci il percorso completo del file\\n    percorso_file = os.path.join(cartella, filename)\\n\\n    # Leggi solo la terza colonna del file CSV in un DataFrame e assegna un nome dinamico\\n\\n    df= pd.read_csv(percorso_file, usecols=[0])\\n    df.name = f\"df_{i}\"\\n    lista.append(df[\"acc_X\"].values)\\n    # Stampa le prime righe del DataFrame appena creato\\n    #print(df.name)\\n    #print(df.head())\\n\\n    i += 1\\nprint(len(lista))'"
            ],
            "application/vnd.google.colaboratory.intrinsic+json": {
              "type": "string"
            }
          },
          "metadata": {},
          "execution_count": 134
        }
      ],
      "source": [
        "'''\n",
        "cartella = r'/content/drive/MyDrive/Progetto_manutenzione/file_cut_training/Pitting_degradation_level_2'\n",
        "for filename in os.listdir(cartella):\n",
        "    # Costruisci il percorso completo del file\n",
        "    percorso_file = os.path.join(cartella, filename)\n",
        "\n",
        "    # Leggi solo la terza colonna del file CSV in un DataFrame e assegna un nome dinamico\n",
        "\n",
        "    df= pd.read_csv(percorso_file, usecols=[0])\n",
        "    df.name = f\"df_{i}\"\n",
        "    lista.append(df[\"acc_X\"].values)\n",
        "    # Stampa le prime righe del DataFrame appena creato\n",
        "    #print(df.name)\n",
        "    #print(df.head())\n",
        "\n",
        "    i += 1\n",
        "print(len(lista))'''"
      ]
    },
    {
      "cell_type": "code",
      "execution_count": null,
      "metadata": {
        "colab": {
          "base_uri": "https://localhost:8080/"
        },
        "id": "fDQMiPUnecZ7",
        "outputId": "70bc284b-3ba1-43bd-d68f-cd18d9936cb3"
      },
      "outputs": [
        {
          "output_type": "stream",
          "name": "stdout",
          "text": [
            "620\n"
          ]
        }
      ],
      "source": [
        "cartella = r'/content/drive/MyDrive/Progetto_manutenzione/file_cut_training/Pitting_degradation_level_3'\n",
        "for filename in os.listdir(cartella):\n",
        "    # Costruisci il percorso completo del file\n",
        "    percorso_file = os.path.join(cartella, filename)\n",
        "\n",
        "    # Leggi solo la terza colonna del file CSV in un DataFrame e assegna un nome dinamico\n",
        "\n",
        "    df= pd.read_csv(percorso_file, usecols=[0])\n",
        "    df.name = f\"df_{i}\"\n",
        "    lista.append(df[\"acc_X\"].values)\n",
        "    # Stampa le prime righe del DataFrame appena creato\n",
        "    #print(df.name)\n",
        "    #print(df.head())\n",
        "\n",
        "    i += 1\n",
        "print(len(lista))"
      ]
    },
    {
      "cell_type": "code",
      "execution_count": null,
      "metadata": {
        "colab": {
          "base_uri": "https://localhost:8080/"
        },
        "id": "sdqMx3B3ecZ7",
        "outputId": "3280223d-0252-477f-990c-e2750c91c752"
      },
      "outputs": [
        {
          "output_type": "stream",
          "name": "stdout",
          "text": [
            "846\n"
          ]
        }
      ],
      "source": [
        "cartella = r'/content/drive/MyDrive/Progetto_manutenzione/file_cut_training/Pitting_degradation_level_4'\n",
        "for filename in os.listdir(cartella):\n",
        "    # Costruisci il percorso completo del file\n",
        "    percorso_file = os.path.join(cartella, filename)\n",
        "\n",
        "    # Leggi solo la terza colonna del file CSV in un DataFrame e assegna un nome dinamico\n",
        "\n",
        "    df= pd.read_csv(percorso_file, usecols=[0])\n",
        "    df.name = f\"df_{i}\"\n",
        "    lista.append(df[\"acc_X\"].values)\n",
        "    # Stampa le prime righe del DataFrame appena creato\n",
        "    #print(df.name)\n",
        "    #print(df.head())\n",
        "\n",
        "    i += 1\n",
        "print(len(lista))"
      ]
    },
    {
      "cell_type": "code",
      "execution_count": null,
      "metadata": {
        "colab": {
          "base_uri": "https://localhost:8080/",
          "height": 87
        },
        "id": "OmLbnjYfecZ8",
        "outputId": "26b8900e-3bf1-44c4-b0fc-cd0d29c0a4bc"
      },
      "outputs": [
        {
          "output_type": "execute_result",
          "data": {
            "text/plain": [
              "'cartella = r\\'/content/drive/MyDrive/Progetto_manutenzione/file_cut_training/Pitting_degradation_level_6\\'\\nfor filename in os.listdir(cartella):\\n    # Costruisci il percorso completo del file\\n    percorso_file = os.path.join(cartella, filename)\\n\\n    # Leggi solo la terza colonna del file CSV in un DataFrame e assegna un nome dinamico\\n\\n    df= pd.read_csv(percorso_file, usecols=[0])\\n    df.name = f\"df_{i}\"\\n    lista.append(df[\"acc_X\"].values)\\n    # Stampa le prime righe del DataFrame appena creato\\n    #print(df.name)\\n    #print(df.head())\\n\\n    i += 1\\nprint(len(lista))'"
            ],
            "application/vnd.google.colaboratory.intrinsic+json": {
              "type": "string"
            }
          },
          "metadata": {},
          "execution_count": 137
        }
      ],
      "source": [
        "'''cartella = r'/content/drive/MyDrive/Progetto_manutenzione/file_cut_training/Pitting_degradation_level_6'\n",
        "for filename in os.listdir(cartella):\n",
        "    # Costruisci il percorso completo del file\n",
        "    percorso_file = os.path.join(cartella, filename)\n",
        "\n",
        "    # Leggi solo la terza colonna del file CSV in un DataFrame e assegna un nome dinamico\n",
        "\n",
        "    df= pd.read_csv(percorso_file, usecols=[0])\n",
        "    df.name = f\"df_{i}\"\n",
        "    lista.append(df[\"acc_X\"].values)\n",
        "    # Stampa le prime righe del DataFrame appena creato\n",
        "    #print(df.name)\n",
        "    #print(df.head())\n",
        "\n",
        "    i += 1\n",
        "print(len(lista))'''"
      ]
    },
    {
      "cell_type": "code",
      "execution_count": null,
      "metadata": {
        "colab": {
          "base_uri": "https://localhost:8080/"
        },
        "id": "lZ5s-lt1ecZ8",
        "outputId": "a7319234-bedb-46dd-9c45-af944cd916e3"
      },
      "outputs": [
        {
          "output_type": "stream",
          "name": "stdout",
          "text": [
            "1066\n"
          ]
        }
      ],
      "source": [
        "cartella = r'/content/drive/MyDrive/Progetto_manutenzione/file_cut_training/Pitting_degradation_level_8'\n",
        "for filename in os.listdir(cartella):\n",
        "    # Costruisci il percorso completo del file\n",
        "    percorso_file = os.path.join(cartella, filename)\n",
        "\n",
        "    # Leggi solo la terza colonna del file CSV in un DataFrame e assegna un nome dinamico\n",
        "\n",
        "    df= pd.read_csv(percorso_file, usecols=[0])\n",
        "    df.name = f\"df_{i}\"\n",
        "    lista.append(df[\"acc_X\"].values)\n",
        "    # Stampa le prime righe del DataFrame appena creato\n",
        "    #print(df.name)\n",
        "    #print(df.head())\n",
        "\n",
        "    i += 1\n",
        "print(len(lista))"
      ]
    },
    {
      "cell_type": "code",
      "source": [
        "def calcola_punto_intermedio_A(vettore1, vettore2):\n",
        "    return (vettore1 + vettore2)/6"
      ],
      "metadata": {
        "id": "uac3mSQDh2mj"
      },
      "execution_count": null,
      "outputs": []
    },
    {
      "cell_type": "code",
      "source": [
        "def calcola_punto_intermedio_B(vettore1, vettore2):\n",
        "    return (vettore1 + vettore2)*3/2"
      ],
      "metadata": {
        "id": "lwo-eFbeQgNv"
      },
      "execution_count": null,
      "outputs": []
    },
    {
      "cell_type": "code",
      "source": [
        "vettori_classe_2 = []\n",
        "\n",
        "i=211\n",
        "for vector in lista[429:619]:\n",
        "  vettori_classe_2.append(calcola_punto_intermedio_A(vector, lista[i]))\n",
        "  i+=1\n",
        "\n",
        "\n",
        "print(\"classe_2: \" + str(len(vettori_classe_2)))"
      ],
      "metadata": {
        "colab": {
          "base_uri": "https://localhost:8080/"
        },
        "id": "_6tOCpK5iA0m",
        "outputId": "60ace264-56a6-4d19-82b9-179e3e1bb121"
      },
      "execution_count": null,
      "outputs": [
        {
          "output_type": "stream",
          "name": "stdout",
          "text": [
            "classe_2: 190\n"
          ]
        }
      ]
    },
    {
      "cell_type": "code",
      "source": [
        "vettori_classe_5 = []\n",
        "\n",
        "i=620\n",
        "for vector in lista[846:1065]:\n",
        "  vettori_classe_5.append(calcola_punto_intermedio_B(vector, lista[i]))\n",
        "  i+=1\n",
        "\n",
        "\n",
        "print(\"classe_5: \" + str(len(vettori_classe_5)))"
      ],
      "metadata": {
        "colab": {
          "base_uri": "https://localhost:8080/"
        },
        "id": "ZEQw-QlJivZm",
        "outputId": "6bfc0441-95d2-413d-d0e7-933daa4693b3"
      },
      "execution_count": null,
      "outputs": [
        {
          "output_type": "stream",
          "name": "stdout",
          "text": [
            "classe_5: 219\n"
          ]
        }
      ]
    },
    {
      "cell_type": "code",
      "source": [
        "for vettore in vettori_classe_2:\n",
        "  lista.append(vettore)\n",
        "\n",
        "for vettore in vettori_classe_5:\n",
        "  lista.append(vettore)"
      ],
      "metadata": {
        "id": "SWikhgvTitRC"
      },
      "execution_count": null,
      "outputs": []
    },
    {
      "cell_type": "code",
      "execution_count": null,
      "metadata": {
        "colab": {
          "base_uri": "https://localhost:8080/"
        },
        "id": "L753lwvrecZ9",
        "outputId": "371edb38-5817-4737-aa5a-3a30858daa4c"
      },
      "outputs": [
        {
          "output_type": "execute_result",
          "data": {
            "text/plain": [
              "1475"
            ]
          },
          "metadata": {},
          "execution_count": 144
        }
      ],
      "source": [
        "len(lista)"
      ]
    },
    {
      "cell_type": "code",
      "execution_count": null,
      "metadata": {
        "colab": {
          "base_uri": "https://localhost:8080/"
        },
        "id": "n8ModjKoecZ9",
        "outputId": "e53e2285-a712-4248-d104-577281964b25"
      },
      "outputs": [
        {
          "output_type": "stream",
          "name": "stdout",
          "text": [
            "1475\n"
          ]
        }
      ],
      "source": [
        "lista_etichette_train = []\n",
        "\n",
        "# Aggiungi i primi 211 numeri pari a 0\n",
        "lista_etichette_train.extend([0] * 211)\n",
        "\n",
        "lista_etichette_train.extend([1] * 218)\n",
        "\n",
        "lista_etichette_train.extend([3] * 191)\n",
        "\n",
        "lista_etichette_train.extend([4] * 226)\n",
        "\n",
        "lista_etichette_train.extend([6] * 220)\n",
        "\n",
        "lista_etichette_train.extend([2] * 190)\n",
        "\n",
        "lista_etichette_train.extend([5] * 219)\n",
        "\n",
        "print(len(lista_etichette_train))"
      ]
    },
    {
      "cell_type": "code",
      "execution_count": null,
      "metadata": {
        "colab": {
          "base_uri": "https://localhost:8080/"
        },
        "id": "QHqMbPd1ecZ-",
        "outputId": "8abdee29-d4a5-44dd-a09d-6688329eda3f"
      },
      "outputs": [
        {
          "output_type": "stream",
          "name": "stdout",
          "text": [
            "545\n"
          ]
        }
      ],
      "source": [
        "lista_etichette_test = []\n",
        "\n",
        "# Aggiungi i primi 77 numeri pari a 0\n",
        "lista_etichette_test.extend([0] * 77)\n",
        "\n",
        "# Aggiungi i successivi 78 numeri pari a 1\n",
        "lista_etichette_test.extend([1] * 78)\n",
        "\n",
        "# Aggiungi i successivi 78 numeri pari a 2\n",
        "lista_etichette_test.extend([2] * 78)\n",
        "\n",
        "# Aggiungi i successivi 78 numeri pari a 3\n",
        "lista_etichette_test.extend([3] * 78)\n",
        "\n",
        "# Aggiungi i successivi 78 numeri pari a 4\n",
        "lista_etichette_test.extend([4] * 78)\n",
        "\n",
        "# Aggiungi i successivi 78 numeri pari a 6 // 5 equivale a 6\n",
        "lista_etichette_test.extend([5] * 78)\n",
        "\n",
        "# Aggiungi i successivi 78 numeri pari a 8 //6 equivale a 8\n",
        "lista_etichette_test.extend([6] * 78)\n",
        "# Stampa la lista di numeri\n",
        "print(len(lista_etichette_test))"
      ]
    },
    {
      "cell_type": "code",
      "execution_count": null,
      "metadata": {
        "colab": {
          "base_uri": "https://localhost:8080/"
        },
        "id": "bQ3tCEqZecZ-",
        "outputId": "2d6851c5-852c-444d-905e-c860cb79840d"
      },
      "outputs": [
        {
          "output_type": "stream",
          "name": "stdout",
          "text": [
            "Model: \"model_5\"\n",
            "__________________________________________________________________________________________________\n",
            " Layer (type)                Output Shape                 Param #   Connected to                  \n",
            "==================================================================================================\n",
            " input_6 (InputLayer)        [(None, 60000, 1)]           0         []                            \n",
            "                                                                                                  \n",
            " separable_conv1d_30 (Separ  (None, 60000, 32)            67        ['input_6[0][0]']             \n",
            " ableConv1D)                                                                                      \n",
            "                                                                                                  \n",
            " max_pooling1d_10 (MaxPooli  (None, 30000, 32)            0         ['separable_conv1d_30[0][0]'] \n",
            " ng1D)                                                                                            \n",
            "                                                                                                  \n",
            " separable_conv1d_31 (Separ  (None, 30000, 64)            2208      ['max_pooling1d_10[0][0]']    \n",
            " ableConv1D)                                                                                      \n",
            "                                                                                                  \n",
            " max_pooling1d_11 (MaxPooli  (None, 15000, 64)            0         ['separable_conv1d_31[0][0]'] \n",
            " ng1D)                                                                                            \n",
            "                                                                                                  \n",
            " separable_conv1d_32 (Separ  (None, 15000, 64)            131       ['input_6[0][0]']             \n",
            " ableConv1D)                                                                                      \n",
            "                                                                                                  \n",
            " add_10 (Add)                (None, 15000, 64)            0         ['max_pooling1d_11[0][0]',    \n",
            "                                                                     'separable_conv1d_32[0][0]'] \n",
            "                                                                                                  \n",
            " separable_conv1d_33 (Separ  (None, 15000, 128)           8512      ['add_10[0][0]']              \n",
            " ableConv1D)                                                                                      \n",
            "                                                                                                  \n",
            " separable_conv1d_34 (Separ  (None, 15000, 128)           16896     ['separable_conv1d_33[0][0]'] \n",
            " ableConv1D)                                                                                      \n",
            "                                                                                                  \n",
            " separable_conv1d_35 (Separ  (None, 15000, 128)           259       ['input_6[0][0]']             \n",
            " ableConv1D)                                                                                      \n",
            "                                                                                                  \n",
            " add_11 (Add)                (None, 15000, 128)           0         ['separable_conv1d_34[0][0]', \n",
            "                                                                     'separable_conv1d_35[0][0]'] \n",
            "                                                                                                  \n",
            " global_max_pooling1d_5 (Gl  (None, 128)                  0         ['add_11[0][0]']              \n",
            " obalMaxPooling1D)                                                                                \n",
            "                                                                                                  \n",
            " dense_10 (Dense)            (None, 100)                  12900     ['global_max_pooling1d_5[0][0]\n",
            "                                                                    ']                            \n",
            "                                                                                                  \n",
            " dense_11 (Dense)            (None, 7)                    707       ['dense_10[0][0]']            \n",
            "                                                                                                  \n",
            "==================================================================================================\n",
            "Total params: 41680 (162.81 KB)\n",
            "Trainable params: 41680 (162.81 KB)\n",
            "Non-trainable params: 0 (0.00 Byte)\n",
            "__________________________________________________________________________________________________\n"
          ]
        }
      ],
      "source": [
        "from tensorflow.keras.models import Model\n",
        "from tensorflow.keras.layers import Input, SeparableConv1D, MaxPooling1D, GlobalMaxPooling1D, Dense, Add\n",
        "import tensorflow as tf\n",
        "\n",
        "# Input Layer\n",
        "input_layer = Input(shape=(60000, 1))\n",
        "\n",
        "# Separable_Conv1D_1\n",
        "conv1 =  SeparableConv1D(32, kernel_size=3, strides=1, padding='same', activation='relu')(input_layer)\n",
        "conv1_mp = MaxPooling1D(pool_size=2, padding='same')(conv1)\n",
        "\n",
        "# Separable_Conv1D_2\n",
        "conv2 =  SeparableConv1D(64, kernel_size=3, strides=1, padding='same', activation='relu')(conv1_mp)\n",
        "conv2_mp = MaxPooling1D(pool_size=2, padding='same')(conv2)\n",
        "\n",
        "# Separable_Conv1D_3\n",
        "conv3 =  SeparableConv1D(64, kernel_size=3, strides=4, padding='same', activation='relu')(input_layer)\n",
        "\n",
        "# Residual Layer 1\n",
        "residual1 = Add()([conv2_mp, conv3])\n",
        "\n",
        "\n",
        "# Residual Layer 2\n",
        "sep_conv_4 = SeparableConv1D(128, kernel_size=3, activation='relu', padding='same')(residual1)\n",
        "sep_conv_5 = SeparableConv1D(128, kernel_size=3, activation='relu', padding='same')(sep_conv_4)\n",
        "sep_conv6 = SeparableConv1D(128, kernel_size=3, strides=4, activation='relu', padding='same')(input_layer)\n",
        "residual2= Add()([sep_conv_5, sep_conv6])\n",
        "\n",
        "\n",
        "# Global Max Pooling\n",
        "global_max_pooling = GlobalMaxPooling1D()(residual2)\n",
        "\n",
        "# Dense Layer\n",
        "dense_layer = Dense(100, activation='relu')(global_max_pooling)\n",
        "\n",
        "# Softmax Layer\n",
        "softmax_layer = Dense(7, activation='softmax')(dense_layer)\n",
        "\n",
        "# Creazione del modello\n",
        "model = Model(inputs=input_layer, outputs=softmax_layer)\n",
        "\n",
        "\n",
        "optimizer = tf.keras.optimizers.experimental.RMSprop(\n",
        "    learning_rate=0.002,\n",
        "    rho=0.9,\n",
        "    momentum=0.0,\n",
        "    epsilon=1e-07\n",
        ")\n",
        "model.compile(\n",
        "    optimizer=optimizer,\n",
        "    loss='categorical_crossentropy',\n",
        "    metrics=[tf.keras.metrics.CategoricalAccuracy()]\n",
        ")\n",
        "\n",
        "# Visualizzazione della struttura della rete\n",
        "model.summary()"
      ]
    },
    {
      "cell_type": "code",
      "execution_count": null,
      "metadata": {
        "id": "WFJfZDBWecZ-"
      },
      "outputs": [],
      "source": [
        "x_train = np.asarray(lista)\n",
        "y_train = tf.keras.utils.to_categorical(lista_etichette_train, num_classes=7)\n",
        "y_test=tf.keras.utils.to_categorical(lista_etichette_test)"
      ]
    },
    {
      "cell_type": "code",
      "execution_count": null,
      "metadata": {
        "colab": {
          "base_uri": "https://localhost:8080/"
        },
        "id": "ZafLqKkAecZ_",
        "outputId": "4c672e80-6119-4a29-95b1-6c11e6ab4522"
      },
      "outputs": [
        {
          "output_type": "stream",
          "name": "stdout",
          "text": [
            "Epoch 1/60\n",
            "47/47 [==============================] - 12s 199ms/step - loss: 1.8102 - categorical_accuracy: 0.2515\n",
            "Epoch 2/60\n",
            "47/47 [==============================] - 9s 196ms/step - loss: 1.6919 - categorical_accuracy: 0.3159\n",
            "Epoch 3/60\n",
            "47/47 [==============================] - 9s 196ms/step - loss: 1.6427 - categorical_accuracy: 0.3383\n",
            "Epoch 4/60\n",
            "47/47 [==============================] - 9s 198ms/step - loss: 1.6196 - categorical_accuracy: 0.3275\n",
            "Epoch 5/60\n",
            "47/47 [==============================] - 9s 198ms/step - loss: 1.5915 - categorical_accuracy: 0.3559\n",
            "Epoch 6/60\n",
            "47/47 [==============================] - 9s 197ms/step - loss: 1.5125 - categorical_accuracy: 0.3905\n",
            "Epoch 7/60\n",
            "47/47 [==============================] - 9s 199ms/step - loss: 1.4386 - categorical_accuracy: 0.4237\n",
            "Epoch 8/60\n",
            "47/47 [==============================] - 9s 198ms/step - loss: 1.3566 - categorical_accuracy: 0.4637\n",
            "Epoch 9/60\n",
            "47/47 [==============================] - 9s 199ms/step - loss: 1.2883 - categorical_accuracy: 0.4908\n",
            "Epoch 10/60\n",
            "47/47 [==============================] - 9s 200ms/step - loss: 1.2253 - categorical_accuracy: 0.5112\n",
            "Epoch 11/60\n",
            "47/47 [==============================] - 9s 200ms/step - loss: 1.1564 - categorical_accuracy: 0.5349\n",
            "Epoch 12/60\n",
            "47/47 [==============================] - 9s 199ms/step - loss: 1.1302 - categorical_accuracy: 0.5302\n",
            "Epoch 13/60\n",
            "47/47 [==============================] - 9s 200ms/step - loss: 1.0887 - categorical_accuracy: 0.5749\n",
            "Epoch 14/60\n",
            "47/47 [==============================] - 9s 199ms/step - loss: 1.0616 - categorical_accuracy: 0.5641\n",
            "Epoch 15/60\n",
            "47/47 [==============================] - 9s 200ms/step - loss: 1.0224 - categorical_accuracy: 0.5736\n",
            "Epoch 16/60\n",
            "47/47 [==============================] - 9s 200ms/step - loss: 0.9982 - categorical_accuracy: 0.5905\n",
            "Epoch 17/60\n",
            "47/47 [==============================] - 9s 199ms/step - loss: 0.9738 - categorical_accuracy: 0.5851\n",
            "Epoch 18/60\n",
            "47/47 [==============================] - 9s 200ms/step - loss: 0.9671 - categorical_accuracy: 0.6115\n",
            "Epoch 19/60\n",
            "47/47 [==============================] - 9s 201ms/step - loss: 0.9117 - categorical_accuracy: 0.6278\n",
            "Epoch 20/60\n",
            "47/47 [==============================] - 10s 202ms/step - loss: 0.8950 - categorical_accuracy: 0.6346\n",
            "Epoch 21/60\n",
            "47/47 [==============================] - 9s 200ms/step - loss: 0.8544 - categorical_accuracy: 0.6441\n",
            "Epoch 22/60\n",
            "47/47 [==============================] - 9s 201ms/step - loss: 0.8543 - categorical_accuracy: 0.6597\n",
            "Epoch 23/60\n",
            "47/47 [==============================] - 9s 202ms/step - loss: 0.8121 - categorical_accuracy: 0.6732\n",
            "Epoch 24/60\n",
            "47/47 [==============================] - 9s 202ms/step - loss: 0.8057 - categorical_accuracy: 0.6631\n",
            "Epoch 25/60\n",
            "47/47 [==============================] - 9s 201ms/step - loss: 0.7613 - categorical_accuracy: 0.7031\n",
            "Epoch 26/60\n",
            "47/47 [==============================] - 9s 201ms/step - loss: 0.7414 - categorical_accuracy: 0.6963\n",
            "Epoch 27/60\n",
            "47/47 [==============================] - 9s 201ms/step - loss: 0.7243 - categorical_accuracy: 0.7214\n",
            "Epoch 28/60\n",
            "47/47 [==============================] - 10s 202ms/step - loss: 0.6871 - categorical_accuracy: 0.7268\n",
            "Epoch 29/60\n",
            "47/47 [==============================] - 10s 203ms/step - loss: 0.6794 - categorical_accuracy: 0.7268\n",
            "Epoch 30/60\n",
            "47/47 [==============================] - 9s 201ms/step - loss: 0.6681 - categorical_accuracy: 0.7159\n",
            "Epoch 31/60\n",
            "47/47 [==============================] - 9s 201ms/step - loss: 0.6632 - categorical_accuracy: 0.7214\n",
            "Epoch 32/60\n",
            "47/47 [==============================] - 9s 202ms/step - loss: 0.6234 - categorical_accuracy: 0.7505\n",
            "Epoch 33/60\n",
            "47/47 [==============================] - 9s 201ms/step - loss: 0.6193 - categorical_accuracy: 0.7424\n",
            "Epoch 34/60\n",
            "47/47 [==============================] - 9s 201ms/step - loss: 0.6163 - categorical_accuracy: 0.7369\n",
            "Epoch 35/60\n",
            "47/47 [==============================] - 9s 202ms/step - loss: 0.6179 - categorical_accuracy: 0.7634\n",
            "Epoch 36/60\n",
            "47/47 [==============================] - 9s 202ms/step - loss: 0.5592 - categorical_accuracy: 0.7742\n",
            "Epoch 37/60\n",
            "47/47 [==============================] - 9s 200ms/step - loss: 0.5776 - categorical_accuracy: 0.7627\n",
            "Epoch 38/60\n",
            "47/47 [==============================] - 10s 204ms/step - loss: 0.5553 - categorical_accuracy: 0.7661\n",
            "Epoch 39/60\n",
            "47/47 [==============================] - 9s 202ms/step - loss: 0.5466 - categorical_accuracy: 0.7675\n",
            "Epoch 40/60\n",
            "47/47 [==============================] - 9s 202ms/step - loss: 0.5312 - categorical_accuracy: 0.7736\n",
            "Epoch 41/60\n",
            "47/47 [==============================] - 9s 200ms/step - loss: 0.5110 - categorical_accuracy: 0.7688\n",
            "Epoch 42/60\n",
            "47/47 [==============================] - 9s 201ms/step - loss: 0.5044 - categorical_accuracy: 0.7783\n",
            "Epoch 43/60\n",
            "47/47 [==============================] - 9s 201ms/step - loss: 0.4784 - categorical_accuracy: 0.8061\n",
            "Epoch 44/60\n",
            "47/47 [==============================] - 9s 201ms/step - loss: 0.4966 - categorical_accuracy: 0.7885\n",
            "Epoch 45/60\n",
            "47/47 [==============================] - 9s 201ms/step - loss: 0.4899 - categorical_accuracy: 0.7973\n",
            "Epoch 46/60\n",
            "47/47 [==============================] - 9s 201ms/step - loss: 0.4606 - categorical_accuracy: 0.8075\n",
            "Epoch 47/60\n",
            "47/47 [==============================] - 10s 204ms/step - loss: 0.4425 - categorical_accuracy: 0.8231\n",
            "Epoch 48/60\n",
            "47/47 [==============================] - 10s 203ms/step - loss: 0.4503 - categorical_accuracy: 0.8129\n",
            "Epoch 49/60\n",
            "47/47 [==============================] - 9s 200ms/step - loss: 0.4369 - categorical_accuracy: 0.8163\n",
            "Epoch 50/60\n",
            "47/47 [==============================] - 9s 202ms/step - loss: 0.4755 - categorical_accuracy: 0.8041\n",
            "Epoch 51/60\n",
            "47/47 [==============================] - 9s 202ms/step - loss: 0.4260 - categorical_accuracy: 0.8129\n",
            "Epoch 52/60\n",
            "47/47 [==============================] - 9s 201ms/step - loss: 0.4037 - categorical_accuracy: 0.8339\n",
            "Epoch 53/60\n",
            "47/47 [==============================] - 9s 201ms/step - loss: 0.4400 - categorical_accuracy: 0.8176\n",
            "Epoch 54/60\n",
            "47/47 [==============================] - 9s 201ms/step - loss: 0.4289 - categorical_accuracy: 0.8190\n",
            "Epoch 55/60\n",
            "47/47 [==============================] - 9s 201ms/step - loss: 0.3807 - categorical_accuracy: 0.8339\n",
            "Epoch 56/60\n",
            "47/47 [==============================] - 9s 201ms/step - loss: 0.3986 - categorical_accuracy: 0.8244\n",
            "Epoch 57/60\n",
            "47/47 [==============================] - 10s 203ms/step - loss: 0.4130 - categorical_accuracy: 0.8319\n",
            "Epoch 58/60\n",
            "47/47 [==============================] - 10s 203ms/step - loss: 0.3733 - categorical_accuracy: 0.8454\n",
            "Epoch 59/60\n",
            "47/47 [==============================] - 9s 202ms/step - loss: 0.3910 - categorical_accuracy: 0.8271\n",
            "Epoch 60/60\n",
            "47/47 [==============================] - 9s 200ms/step - loss: 0.3711 - categorical_accuracy: 0.8475\n"
          ]
        },
        {
          "output_type": "execute_result",
          "data": {
            "text/plain": [
              "<keras.src.callbacks.History at 0x7df684915d80>"
            ]
          },
          "metadata": {},
          "execution_count": 149
        }
      ],
      "source": [
        "model.fit(x_train,y_train, epochs=60)"
      ]
    },
    {
      "cell_type": "code",
      "execution_count": null,
      "metadata": {
        "id": "T05eIZ_6ecZ_",
        "colab": {
          "base_uri": "https://localhost:8080/"
        },
        "outputId": "b666f863-f5f6-4e86-8693-41be4f63866c"
      },
      "outputs": [
        {
          "output_type": "stream",
          "name": "stdout",
          "text": [
            "77\n"
          ]
        }
      ],
      "source": [
        "i = 1\n",
        "cartella = r'/content/drive/MyDrive/Progetto_manutenzione/hold_out_test/Pitting_degradation_level_0 (Healthy)'\n",
        "lista_test = []\n",
        "for filename in os.listdir(cartella):\n",
        "    # Costruisci il percorso completo del file\n",
        "    percorso_file = os.path.join(cartella, filename)\n",
        "\n",
        "    # Leggi solo la terza colonna del file CSV in un DataFrame e assegna un nome dinamico\n",
        "\n",
        "    df= pd.read_csv(percorso_file, usecols=[0])\n",
        "    df.name = f\"df_{i}\"\n",
        "    lista_test.append(df[\"acc_X\"].values)\n",
        "    # Stampa le prime righe del DataFrame appena creato\n",
        "    #print(df.name)\n",
        "    #print(df.head())\n",
        "\n",
        "    i += 1\n",
        "print(len(lista_test))"
      ]
    },
    {
      "cell_type": "code",
      "execution_count": null,
      "metadata": {
        "id": "DaYMdIO7ecZ_",
        "colab": {
          "base_uri": "https://localhost:8080/"
        },
        "outputId": "977e36e2-aabe-4730-9157-ec4257848b4d"
      },
      "outputs": [
        {
          "output_type": "stream",
          "name": "stdout",
          "text": [
            "155\n"
          ]
        }
      ],
      "source": [
        "cartella = r'/content/drive/MyDrive/Progetto_manutenzione/hold_out_test/Pitting_degradation_level_1'\n",
        "for filename in os.listdir(cartella):\n",
        "    # Costruisci il percorso completo del file\n",
        "    percorso_file = os.path.join(cartella, filename)\n",
        "\n",
        "    # Leggi solo la terza colonna del file CSV in un DataFrame e assegna un nome dinamico\n",
        "\n",
        "    df= pd.read_csv(percorso_file, usecols=[0])\n",
        "    df.name = f\"df_{i}\"\n",
        "    lista_test.append(df[\"acc_X\"].values)\n",
        "    # Stampa le prime righe del DataFrame appena creato\n",
        "    #print(df.name)\n",
        "    #print(df.head())\n",
        "\n",
        "    i += 1\n",
        "print(len(lista_test))"
      ]
    },
    {
      "cell_type": "code",
      "execution_count": null,
      "metadata": {
        "id": "SFvF7UveecaA",
        "colab": {
          "base_uri": "https://localhost:8080/"
        },
        "outputId": "43fd3dcb-7671-4184-85be-cb2b8b2be7f3"
      },
      "outputs": [
        {
          "output_type": "stream",
          "name": "stdout",
          "text": [
            "233\n"
          ]
        }
      ],
      "source": [
        "cartella = r'/content/drive/MyDrive/Progetto_manutenzione/hold_out_test/Pitting_degradation_level_2'\n",
        "for filename in os.listdir(cartella):\n",
        "    # Costruisci il percorso completo del file\n",
        "    percorso_file = os.path.join(cartella, filename)\n",
        "\n",
        "    # Leggi solo la terza colonna del file CSV in un DataFrame e assegna un nome dinamico\n",
        "\n",
        "    df= pd.read_csv(percorso_file, usecols=[0])\n",
        "    df.name = f\"df_{i}\"\n",
        "    lista_test.append(df[\"acc_X\"].values)\n",
        "    # Stampa le prime righe del DataFrame appena creato\n",
        "    #print(df.name)\n",
        "    #print(df.head())\n",
        "\n",
        "    i += 1\n",
        "print(len(lista_test))"
      ]
    },
    {
      "cell_type": "code",
      "execution_count": null,
      "metadata": {
        "id": "Np5pl9CLecaA",
        "colab": {
          "base_uri": "https://localhost:8080/"
        },
        "outputId": "b5bdd51b-059f-47c3-f99d-68686ec16039"
      },
      "outputs": [
        {
          "output_type": "stream",
          "name": "stdout",
          "text": [
            "311\n"
          ]
        }
      ],
      "source": [
        "cartella = r'/content/drive/MyDrive/Progetto_manutenzione/hold_out_test/Pitting_degradation_level_3'\n",
        "for filename in os.listdir(cartella):\n",
        "    # Costruisci il percorso completo del file\n",
        "    percorso_file = os.path.join(cartella, filename)\n",
        "\n",
        "    # Leggi solo la terza colonna del file CSV in un DataFrame e assegna un nome dinamico\n",
        "\n",
        "    df= pd.read_csv(percorso_file, usecols=[0])\n",
        "    df.name = f\"df_{i}\"\n",
        "    lista_test.append(df[\"acc_X\"].values)\n",
        "    # Stampa le prime righe del DataFrame appena creato\n",
        "    #print(df.name)\n",
        "    #print(df.head())\n",
        "\n",
        "    i += 1\n",
        "print(len(lista_test))"
      ]
    },
    {
      "cell_type": "code",
      "execution_count": null,
      "metadata": {
        "id": "LnK0YT5kecaA",
        "colab": {
          "base_uri": "https://localhost:8080/"
        },
        "outputId": "4e490f73-0792-49f4-eb71-625e7d9246e3"
      },
      "outputs": [
        {
          "output_type": "stream",
          "name": "stdout",
          "text": [
            "389\n"
          ]
        }
      ],
      "source": [
        "cartella = r'/content/drive/MyDrive/Progetto_manutenzione/hold_out_test/Pitting_degradation_level_4'\n",
        "for filename in os.listdir(cartella):\n",
        "    # Costruisci il percorso completo del file\n",
        "    percorso_file = os.path.join(cartella, filename)\n",
        "\n",
        "    # Leggi solo la terza colonna del file CSV in un DataFrame e assegna un nome dinamico\n",
        "\n",
        "    df= pd.read_csv(percorso_file, usecols=[0])\n",
        "    df.name = f\"df_{i}\"\n",
        "    lista_test.append(df[\"acc_X\"].values)\n",
        "    # Stampa le prime righe del DataFrame appena creato\n",
        "    #print(df.name)\n",
        "    #print(df.head())\n",
        "\n",
        "    i += 1\n",
        "print(len(lista_test))"
      ]
    },
    {
      "cell_type": "code",
      "execution_count": null,
      "metadata": {
        "id": "uFQ5H3nhecaB",
        "colab": {
          "base_uri": "https://localhost:8080/"
        },
        "outputId": "0000c7bc-9180-4084-86c6-5ef4fdddf6a7"
      },
      "outputs": [
        {
          "output_type": "stream",
          "name": "stdout",
          "text": [
            "467\n"
          ]
        }
      ],
      "source": [
        "cartella = r'/content/drive/MyDrive/Progetto_manutenzione/hold_out_test/Pitting_degradation_level_6'\n",
        "for filename in os.listdir(cartella):\n",
        "    # Costruisci il percorso completo del file\n",
        "    percorso_file = os.path.join(cartella, filename)\n",
        "\n",
        "    # Leggi solo la terza colonna del file CSV in un DataFrame e assegna un nome dinamico\n",
        "\n",
        "    df= pd.read_csv(percorso_file, usecols=[0])\n",
        "    df.name = f\"df_{i}\"\n",
        "    lista_test.append(df[\"acc_X\"].values)\n",
        "    # Stampa le prime righe del DataFrame appena creato\n",
        "    #print(df.name)\n",
        "    #print(df.head())\n",
        "\n",
        "    i += 1\n",
        "print(len(lista_test))"
      ]
    },
    {
      "cell_type": "code",
      "execution_count": null,
      "metadata": {
        "id": "mrb8rKc6ecaB",
        "colab": {
          "base_uri": "https://localhost:8080/"
        },
        "outputId": "832d829c-1044-41bf-b0bf-676579b5cec8"
      },
      "outputs": [
        {
          "output_type": "stream",
          "name": "stdout",
          "text": [
            "545\n"
          ]
        }
      ],
      "source": [
        "cartella = r'/content/drive/MyDrive/Progetto_manutenzione/hold_out_test/Pitting_degradation_level_8'\n",
        "for filename in os.listdir(cartella):\n",
        "    # Costruisci il percorso completo del file\n",
        "    percorso_file = os.path.join(cartella, filename)\n",
        "\n",
        "    # Leggi solo la terza colonna del file CSV in un DataFrame e assegna un nome dinamico\n",
        "\n",
        "    df= pd.read_csv(percorso_file, usecols=[0])\n",
        "    df.name = f\"df_{i}\"\n",
        "    lista_test.append(df[\"acc_X\"].values)\n",
        "    # Stampa le prime righe del DataFrame appena creato\n",
        "    #print(df.name)\n",
        "    #print(df.head())\n",
        "\n",
        "    i += 1\n",
        "print(len(lista_test))"
      ]
    },
    {
      "cell_type": "code",
      "execution_count": null,
      "metadata": {
        "id": "9vIHsfMCecaB"
      },
      "outputs": [],
      "source": [
        "x_test = np.asarray(lista_test)"
      ]
    },
    {
      "cell_type": "code",
      "execution_count": null,
      "metadata": {
        "id": "KyrRvqoJecaC",
        "colab": {
          "base_uri": "https://localhost:8080/"
        },
        "outputId": "aa09dc2d-681a-462a-cfab-3ad19639be64"
      },
      "outputs": [
        {
          "output_type": "stream",
          "name": "stdout",
          "text": [
            "18/18 [==============================] - 2s 81ms/step - loss: 8.0371 - categorical_accuracy: 0.5486\n",
            "[8.037113189697266, 0.5486238598823547]\n"
          ]
        }
      ],
      "source": [
        "evaluation = model.evaluate(x_test, y_test)\n",
        "print(evaluation)"
      ]
    },
    {
      "cell_type": "code",
      "source": [
        "prediction = model.predict(x_test)"
      ],
      "metadata": {
        "id": "a-TlTiEi3hw8",
        "colab": {
          "base_uri": "https://localhost:8080/"
        },
        "outputId": "7b0cfd5d-8001-41d1-9464-da1e8201e0b1"
      },
      "execution_count": null,
      "outputs": [
        {
          "output_type": "stream",
          "name": "stdout",
          "text": [
            "18/18 [==============================] - 2s 79ms/step\n"
          ]
        }
      ]
    },
    {
      "cell_type": "code",
      "source": [
        "# Trova l'indice della classe con la probabilità più alta per ciascun vettore di probabilità\n",
        "indici_classi_predette = np.argmax(prediction, axis=1)\n",
        "# Crea la matrice one-hot\n",
        "matrice_one_hot = np.eye(prediction.shape[1])[indici_classi_predette]\n",
        "\n",
        "from sklearn.metrics import precision_score, recall_score\n",
        "print(precision_score(y_test,matrice_one_hot, average='macro'))\n",
        "print(recall_score(y_test,matrice_one_hot, average='macro'))"
      ],
      "metadata": {
        "id": "gWjYR3S7434U",
        "colab": {
          "base_uri": "https://localhost:8080/"
        },
        "outputId": "d5229d3d-a6cf-4391-87a3-6d054beeceab"
      },
      "execution_count": null,
      "outputs": [
        {
          "output_type": "stream",
          "name": "stdout",
          "text": [
            "0.42851495886430324\n",
            "0.548951048951049\n"
          ]
        },
        {
          "output_type": "stream",
          "name": "stderr",
          "text": [
            "/usr/local/lib/python3.10/dist-packages/sklearn/metrics/_classification.py:1344: UndefinedMetricWarning: Precision is ill-defined and being set to 0.0 in labels with no predicted samples. Use `zero_division` parameter to control this behavior.\n",
            "  _warn_prf(average, modifier, msg_start, len(result))\n"
          ]
        }
      ]
    },
    {
      "cell_type": "code",
      "source": [
        "from sklearn.metrics import confusion_matrix\n",
        "# Converte la matrice one-hot in etichette predette\n",
        "etichette_predette = np.argmax(matrice_one_hot, axis=1)\n",
        "\n",
        "# Converte y_test in etichette reali\n",
        "etichette_reali = np.argmax(y_test, axis=1)\n",
        "\n",
        "# Calcola la matrice di confusione\n",
        "matrice_confusione = confusion_matrix(etichette_reali, etichette_predette)\n",
        "\n",
        "#confusion_matrix(y_test, matrice_one_hot)\n",
        "\n"
      ],
      "metadata": {
        "id": "dVBWpm0J3siV"
      },
      "execution_count": null,
      "outputs": []
    },
    {
      "cell_type": "code",
      "source": [
        "print(\"Matrice di confusione:\")\n",
        "print(matrice_confusione)\n"
      ],
      "metadata": {
        "id": "rx80BjfR6lhv",
        "colab": {
          "base_uri": "https://localhost:8080/"
        },
        "outputId": "f687ba2c-f02c-4a1a-de33-d7473c4a8081"
      },
      "execution_count": null,
      "outputs": [
        {
          "output_type": "stream",
          "name": "stdout",
          "text": [
            "Matrice di confusione:\n",
            "[[56 20  0  1  0  0  0]\n",
            " [ 8 69  0  1  0  0  0]\n",
            " [23 17  0  5  1  2 30]\n",
            " [ 7 13  0 48  8  1  1]\n",
            " [ 5 13  0  8 52  0  0]\n",
            " [17 18  0  3  1  0 39]\n",
            " [ 3  0  0  1  0  0 74]]\n"
          ]
        }
      ]
    },
    {
      "cell_type": "code",
      "source": [
        "import matplotlib.pyplot as plt\n",
        "import seaborn as sns\n",
        "\n",
        "# Plot della matrice di confusione utilizzando seaborn\n",
        "plt.figure(figsize=(8, 6))\n",
        "sns.heatmap(matrice_confusione, annot=True, fmt='d', cmap='Blues')\n",
        "plt.xlabel('Classe Predetta')\n",
        "plt.ylabel('Classe Reale')\n",
        "plt.title('Matrice di Confusione')\n",
        "plt.show()\n"
      ],
      "metadata": {
        "id": "KWMdcJYP6i03",
        "colab": {
          "base_uri": "https://localhost:8080/",
          "height": 564
        },
        "outputId": "5bb3ecfd-578e-40b5-d00f-74dd8375f6e9"
      },
      "execution_count": null,
      "outputs": [
        {
          "output_type": "display_data",
          "data": {
            "text/plain": [
              "<Figure size 800x600 with 2 Axes>"
            ],
            "image/png": "[encoded data removed]"
          },
          "metadata": {}
        }
      ]
    }
  ],
  "metadata": {
    "kernelspec": {
      "display_name": "Python 3",
      "name": "python3"
    },
    "language_info": {
      "codemirror_mode": {
        "name": "ipython",
        "version": 3
      },
      "file_extension": ".py",
      "mimetype": "text/x-python",
      "name": "python",
      "nbconvert_exporter": "python",
      "pygments_lexer": "ipython3",
      "version": "3.9.2"
    },
    "colab": {
      "provenance": [],
      "gpuType": "T4"
    },
    "accelerator": "GPU"
  },
  "nbformat": 4,
  "nbformat_minor": 0
}