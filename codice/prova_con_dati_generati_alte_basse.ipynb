{
  "cells": [
    {
      "cell_type": "code",
      "source": [
        "from google.colab import drive\n",
        "drive.mount('/content/drive')"
      ],
      "metadata": {
        "colab": {
          "base_uri": "https://localhost:8080/"
        },
        "id": "qYv-u2fzekNV",
        "outputId": "69ce6b13-e337-4cda-fe1a-e1c09d05f7ec"
      },
      "execution_count": 20,
      "outputs": [
        {
          "output_type": "stream",
          "name": "stdout",
          "text": [
            "Drive already mounted at /content/drive; to attempt to forcibly remount, call drive.mount(\"/content/drive\", force_remount=True).\n"
          ]
        }
      ]
    },
    {
      "cell_type": "code",
      "execution_count": 21,
      "metadata": {
        "id": "Cm2QRjmRecZy"
      },
      "outputs": [],
      "source": [
        "import pandas as pd\n",
        "import os\n",
        "import numpy as np"
      ]
    },
    {
      "cell_type": "code",
      "source": [
        "velocita_alte = ['V1200_', 'V2100_', 'V2700_', 'V3000_', 'V3600_']\n",
        "velocita_basse = ['V100_', 'V200_','V300_','V400_','V500_','V600_','V700_','V800_','V900_', 'V1000_']"
      ],
      "metadata": {
        "id": "hzTIcTajA_pW"
      },
      "execution_count": 22,
      "outputs": []
    },
    {
      "cell_type": "code",
      "execution_count": 23,
      "metadata": {
        "colab": {
          "base_uri": "https://localhost:8080/"
        },
        "id": "siLA7COrecZ4",
        "outputId": "41e94508-3d0c-4f47-9052-742e34b47234"
      },
      "outputs": [
        {
          "output_type": "stream",
          "name": "stdout",
          "text": [
            "bassa: 160\n",
            "alta: 51\n"
          ]
        }
      ],
      "source": [
        "i = 1\n",
        "cartella = r'/content/drive/MyDrive/Progetto_manutenzione/file_cut_training/Pitting_degradation_level_0 (Healthy)'\n",
        "lev0_bassa = []\n",
        "lev0_alta = []\n",
        "for filename in os.listdir(cartella):\n",
        "    # Costruisci il percorso completo del file\n",
        "    percorso_file = os.path.join(cartella, filename)\n",
        "\n",
        "    # Leggi solo la terza colonna del file CSV in un DataFrame e assegna un nome dinamico\n",
        "\n",
        "    df= pd.read_csv(percorso_file, usecols=[0])\n",
        "    df.name = f\"df_{i}\"\n",
        "    if any(codice in filename for codice in velocita_alte):\n",
        "      lev0_alta.append(df[\"acc_X\"].values)\n",
        "    else: lev0_bassa.append(df[\"acc_X\"].values)\n",
        "    # Stampa le prime righe del DataFrame appena creato\n",
        "    #print(df.name)\n",
        "    #print(df.head())\n",
        "\n",
        "    i += 1\n",
        "print(\"bassa: \"+ str(len(lev0_bassa)))\n",
        "print(\"alta: \"+ str(len(lev0_alta)))"
      ]
    },
    {
      "cell_type": "code",
      "execution_count": 24,
      "metadata": {
        "colab": {
          "base_uri": "https://localhost:8080/"
        },
        "id": "q4YN91hAecZ6",
        "outputId": "3d06e9fd-7d85-4ce6-9ac1-58f6103941b0"
      },
      "outputs": [
        {
          "output_type": "stream",
          "name": "stdout",
          "text": [
            "bassa: 167\n",
            "alta: 51\n"
          ]
        }
      ],
      "source": [
        "cartella = r'/content/drive/MyDrive/Progetto_manutenzione/file_cut_training/Pitting_degradation_level_1'\n",
        "lev1_bassa = []\n",
        "lev1_alta = []\n",
        "for filename in os.listdir(cartella):\n",
        "    # Costruisci il percorso completo del file\n",
        "    percorso_file = os.path.join(cartella, filename)\n",
        "\n",
        "    # Leggi solo la terza colonna del file CSV in un DataFrame e assegna un nome dinamico\n",
        "\n",
        "    df= pd.read_csv(percorso_file, usecols=[0])\n",
        "    df.name = f\"df_{i}\"\n",
        "    if any(codice in filename for codice in velocita_alte):\n",
        "      lev1_alta.append(df[\"acc_X\"].values)\n",
        "    else: lev1_bassa.append(df[\"acc_X\"].values)\n",
        "    # Stampa le prime righe del DataFrame appena creato\n",
        "    #print(df.name)\n",
        "    #print(df.head())\n",
        "\n",
        "    i += 1\n",
        "print(\"bassa: \"+ str(len(lev1_bassa)))\n",
        "print(\"alta: \"+ str(len(lev1_alta)))"
      ]
    },
    {
      "cell_type": "code",
      "execution_count": 25,
      "metadata": {
        "colab": {
          "base_uri": "https://localhost:8080/"
        },
        "id": "RaFFo8kWecZ6",
        "outputId": "328b578e-d246-4632-e9b2-e8074f0addae"
      },
      "outputs": [
        {
          "output_type": "stream",
          "name": "stdout",
          "text": [
            "bassa: 161\n",
            "alta: 52\n"
          ]
        }
      ],
      "source": [
        "cartella = r'/content/drive/MyDrive/Progetto_manutenzione/file_cut_training/Pitting_degradation_level_2'\n",
        "lev2_bassa = []\n",
        "lev2_alta = []\n",
        "for filename in os.listdir(cartella):\n",
        "    # Costruisci il percorso completo del file\n",
        "    percorso_file = os.path.join(cartella, filename)\n",
        "\n",
        "    # Leggi solo la terza colonna del file CSV in un DataFrame e assegna un nome dinamico\n",
        "\n",
        "    df= pd.read_csv(percorso_file, usecols=[0])\n",
        "    df.name = f\"df_{i}\"\n",
        "    if any(codice in filename for codice in velocita_alte):\n",
        "      lev2_alta.append(df[\"acc_X\"].values)\n",
        "    else: lev2_bassa.append(df[\"acc_X\"].values)\n",
        "    # Stampa le prime righe del DataFrame appena creato\n",
        "    #print(df.name)\n",
        "    #print(df.head())\n",
        "\n",
        "    i += 1\n",
        "print(\"bassa: \"+ str(len(lev2_bassa)))\n",
        "print(\"alta: \"+ str(len(lev2_alta)))"
      ]
    },
    {
      "cell_type": "code",
      "execution_count": 26,
      "metadata": {
        "colab": {
          "base_uri": "https://localhost:8080/"
        },
        "id": "fDQMiPUnecZ7",
        "outputId": "5e76fcb3-20f3-414a-af3e-bf7c6d4795e7"
      },
      "outputs": [
        {
          "output_type": "stream",
          "name": "stdout",
          "text": [
            "bassa: 150\n",
            "alta: 41\n"
          ]
        }
      ],
      "source": [
        "cartella = r'/content/drive/MyDrive/Progetto_manutenzione/file_cut_training/Pitting_degradation_level_3'\n",
        "lev3_bassa = []\n",
        "lev3_alta = []\n",
        "for filename in os.listdir(cartella):\n",
        "    # Costruisci il percorso completo del file\n",
        "    percorso_file = os.path.join(cartella, filename)\n",
        "\n",
        "    # Leggi solo la terza colonna del file CSV in un DataFrame e assegna un nome dinamico\n",
        "\n",
        "    df= pd.read_csv(percorso_file, usecols=[0])\n",
        "    df.name = f\"df_{i}\"\n",
        "    if any(codice in filename for codice in velocita_alte):\n",
        "      lev3_alta.append(df[\"acc_X\"].values)\n",
        "    else: lev3_bassa.append(df[\"acc_X\"].values)\n",
        "    # Stampa le prime righe del DataFrame appena creato\n",
        "    #print(df.name)\n",
        "    #print(df.head())\n",
        "\n",
        "    i += 1\n",
        "print(\"bassa: \"+ str(len(lev3_bassa)))\n",
        "print(\"alta: \"+ str(len(lev3_alta)))"
      ]
    },
    {
      "cell_type": "code",
      "execution_count": 27,
      "metadata": {
        "colab": {
          "base_uri": "https://localhost:8080/"
        },
        "id": "sdqMx3B3ecZ7",
        "outputId": "fc37c532-22c3-473d-9077-67b596c32bcb"
      },
      "outputs": [
        {
          "output_type": "stream",
          "name": "stdout",
          "text": [
            "bassa: 178\n",
            "alta: 48\n"
          ]
        }
      ],
      "source": [
        "cartella = r'/content/drive/MyDrive/Progetto_manutenzione/file_cut_training/Pitting_degradation_level_4'\n",
        "lev4_bassa = []\n",
        "lev4_alta = []\n",
        "for filename in os.listdir(cartella):\n",
        "    # Costruisci il percorso completo del file\n",
        "    percorso_file = os.path.join(cartella, filename)\n",
        "\n",
        "    # Leggi solo la terza colonna del file CSV in un DataFrame e assegna un nome dinamico\n",
        "\n",
        "    df= pd.read_csv(percorso_file, usecols=[0])\n",
        "    df.name = f\"df_{i}\"\n",
        "    if any(codice in filename for codice in velocita_alte):\n",
        "      lev4_alta.append(df[\"acc_X\"].values)\n",
        "    else: lev4_bassa.append(df[\"acc_X\"].values)\n",
        "    # Stampa le prime righe del DataFrame appena creato\n",
        "    #print(df.name)\n",
        "    #print(df.head())\n",
        "\n",
        "    i += 1\n",
        "print(\"bassa: \"+ str(len(lev4_bassa)))\n",
        "print(\"alta: \"+ str(len(lev4_alta)))"
      ]
    },
    {
      "cell_type": "code",
      "execution_count": 28,
      "metadata": {
        "colab": {
          "base_uri": "https://localhost:8080/"
        },
        "id": "OmLbnjYfecZ8",
        "outputId": "115ed9fc-a231-4eca-abcf-3a870301f288"
      },
      "outputs": [
        {
          "output_type": "stream",
          "name": "stdout",
          "text": [
            "bassa: 157\n",
            "alta: 46\n"
          ]
        }
      ],
      "source": [
        "cartella = r'/content/drive/MyDrive/Progetto_manutenzione/file_cut_training/Pitting_degradation_level_6'\n",
        "lev5_bassa = []\n",
        "lev5_alta = []\n",
        "for filename in os.listdir(cartella):\n",
        "    # Costruisci il percorso completo del file\n",
        "    percorso_file = os.path.join(cartella, filename)\n",
        "\n",
        "    # Leggi solo la terza colonna del file CSV in un DataFrame e assegna un nome dinamico\n",
        "\n",
        "    df= pd.read_csv(percorso_file, usecols=[0])\n",
        "    df.name = f\"df_{i}\"\n",
        "    if any(codice in filename for codice in velocita_alte):\n",
        "      lev5_alta.append(df[\"acc_X\"].values)\n",
        "    else: lev5_bassa.append(df[\"acc_X\"].values)\n",
        "    # Stampa le prime righe del DataFrame appena creato\n",
        "    #print(df.name)\n",
        "    #print(df.head())\n",
        "\n",
        "    i += 1\n",
        "print(\"bassa: \"+ str(len(lev5_bassa)))\n",
        "print(\"alta: \"+ str(len(lev5_alta)))"
      ]
    },
    {
      "cell_type": "code",
      "execution_count": 29,
      "metadata": {
        "colab": {
          "base_uri": "https://localhost:8080/"
        },
        "id": "lZ5s-lt1ecZ8",
        "outputId": "f5ac8be2-9751-470f-afbe-0bdfa8c0b46b"
      },
      "outputs": [
        {
          "output_type": "stream",
          "name": "stdout",
          "text": [
            "bassa: 169\n",
            "alta: 51\n"
          ]
        }
      ],
      "source": [
        "cartella = r'/content/drive/MyDrive/Progetto_manutenzione/file_cut_training/Pitting_degradation_level_8'\n",
        "lev6_bassa = []\n",
        "lev6_alta = []\n",
        "for filename in os.listdir(cartella):\n",
        "    # Costruisci il percorso completo del file\n",
        "    percorso_file = os.path.join(cartella, filename)\n",
        "\n",
        "    # Leggi solo la terza colonna del file CSV in un DataFrame e assegna un nome dinamico\n",
        "\n",
        "    df= pd.read_csv(percorso_file, usecols=[0])\n",
        "    df.name = f\"df_{i}\"\n",
        "    if any(codice in filename for codice in velocita_alte):\n",
        "      lev6_alta.append(df[\"acc_X\"].values)\n",
        "    else: lev6_bassa.append(df[\"acc_X\"].values)\n",
        "    # Stampa le prime righe del DataFrame appena creato\n",
        "    #print(df.name)\n",
        "    #print(df.head())\n",
        "\n",
        "    i += 1\n",
        "print(\"bassa: \"+ str(len(lev6_bassa)))\n",
        "print(\"alta: \"+ str(len(lev6_alta)))"
      ]
    },
    {
      "cell_type": "code",
      "execution_count": 30,
      "metadata": {
        "colab": {
          "base_uri": "https://localhost:8080/"
        },
        "id": "L753lwvrecZ9",
        "outputId": "d9a2a878-9d4e-4eaf-c49d-63205a1b01cb"
      },
      "outputs": [
        {
          "output_type": "stream",
          "name": "stdout",
          "text": [
            "823\n",
            "248\n"
          ]
        }
      ],
      "source": [
        "lista_train_bassa = lev0_bassa + lev1_bassa + lev2_bassa + lev4_bassa + lev5_bassa\n",
        "print(len(lista_train_bassa))\n",
        "lista_train_alta = lev0_alta + lev1_alta + lev2_alta + lev4_alta + lev5_alta\n",
        "print(len(lista_train_alta))"
      ]
    },
    {
      "cell_type": "code",
      "source": [
        "def calcola_punto_intermedio(vettore1, vettore2):\n",
        "    return (vettore1 + vettore2)/2"
      ],
      "metadata": {
        "id": "SpBtkUnXO9Wm"
      },
      "execution_count": 31,
      "outputs": []
    },
    {
      "cell_type": "code",
      "source": [
        "vettori_classe_3_bassa =[]\n",
        "vettori_classe_3_alta =[]\n",
        "\n",
        "i=0\n",
        "for vector in lev2_bassa:\n",
        "  vettori_classe_3_bassa.append(calcola_punto_intermedio(vector, lev4_bassa[i]))\n",
        "  i+=1\n",
        "\n",
        "j=0\n",
        "for vector in lev4_alta:\n",
        "  vettori_classe_3_alta.append(calcola_punto_intermedio(vector, lev2_alta[j]))\n",
        "  j+=1\n",
        "\n",
        "print(\"alta_3: \" + str(len(vettori_classe_3_alta)))\n",
        "print(\"bassa_3: \" + str(len(vettori_classe_3_bassa)))"
      ],
      "metadata": {
        "colab": {
          "base_uri": "https://localhost:8080/"
        },
        "id": "EPsPPQx3PnFV",
        "outputId": "65f8fbfb-3cb0-4e98-f2f9-3a515d273297"
      },
      "execution_count": 32,
      "outputs": [
        {
          "output_type": "stream",
          "name": "stdout",
          "text": [
            "alta_3: 48\n",
            "bassa_3: 161\n"
          ]
        }
      ]
    },
    {
      "cell_type": "code",
      "source": [
        "def calcola_distanza(vettore1, vettore2):\n",
        "     # Calcola la metà della distanza tra i due vettori di input\n",
        "    meta_distanza = np.linalg.norm(vettore1 - vettore2)\n",
        "    punto_con_rumore = vettore2 + 2* meta_distanza\n",
        "    return punto_con_rumore"
      ],
      "metadata": {
        "id": "qusxLXzTQtoF"
      },
      "execution_count": 33,
      "outputs": []
    },
    {
      "cell_type": "code",
      "source": [
        "vettori_classe_6_bassa =[]\n",
        "vettori_classe_6_alta =[]\n",
        "\n",
        "i=0\n",
        "for vector in lev5_bassa:\n",
        "  vettori_classe_6_bassa.append(calcola_distanza(vector, lev4_bassa[i]))\n",
        "  i+=1\n",
        "\n",
        "j=0\n",
        "for vector in lev5_alta:\n",
        "  vettori_classe_6_alta.append(calcola_distanza(vector, lev4_alta[j]))\n",
        "  j+=1\n",
        "\n",
        "print(\"alta_6: \" + str(len(vettori_classe_6_alta)))\n",
        "print(\"bassa_6: \" + str(len(vettori_classe_6_bassa)))"
      ],
      "metadata": {
        "colab": {
          "base_uri": "https://localhost:8080/"
        },
        "id": "oUFLIhDSRnZ1",
        "outputId": "9d5f4cdc-aa81-4fbe-90d2-cda1a7018b03"
      },
      "execution_count": 34,
      "outputs": [
        {
          "output_type": "stream",
          "name": "stdout",
          "text": [
            "alta_6: 46\n",
            "bassa_6: 157\n"
          ]
        }
      ]
    },
    {
      "cell_type": "code",
      "source": [
        "for vettore in vettori_classe_3_bassa:\n",
        "  lista_train_bassa.append(vettore)\n",
        "\n",
        "for vettore in vettori_classe_3_alta:\n",
        "  lista_train_alta.append(vettore)\n",
        "\n",
        "for vettore in vettori_classe_6_bassa:\n",
        "  lista_train_bassa.append(vettore)\n",
        "\n",
        "for vettore in vettori_classe_6_alta:\n",
        "  lista_train_alta.append(vettore)\n",
        "\n",
        "print(\"alta_train: \" + str(len(lista_train_alta)))\n",
        "print(\"bassa_train: \" + str(len(lista_train_bassa)))"
      ],
      "metadata": {
        "colab": {
          "base_uri": "https://localhost:8080/"
        },
        "id": "5eLeOrJHTD42",
        "outputId": "18bc7ce0-58ed-41b1-b182-8629ce41d994"
      },
      "execution_count": 35,
      "outputs": [
        {
          "output_type": "stream",
          "name": "stdout",
          "text": [
            "alta_train: 342\n",
            "bassa_train: 1141\n"
          ]
        }
      ]
    },
    {
      "cell_type": "code",
      "execution_count": 36,
      "metadata": {
        "colab": {
          "base_uri": "https://localhost:8080/"
        },
        "id": "n8ModjKoecZ9",
        "outputId": "4d05b0e8-9e33-4c70-de57-bdeacd29656a"
      },
      "outputs": [
        {
          "output_type": "stream",
          "name": "stdout",
          "text": [
            "andrea alto: 342\n",
            "andrea basso: 1141\n"
          ]
        }
      ],
      "source": [
        "lista_etichette_train_alta = []\n",
        "lista_etichette_train_bassa = []\n",
        "\n",
        "lista_etichette_train_bassa.extend([0] * 160)\n",
        "lista_etichette_train_bassa.extend([1] * 167)\n",
        "lista_etichette_train_bassa.extend([2] * 161)\n",
        "lista_etichette_train_bassa.extend([4] * 178)\n",
        "lista_etichette_train_bassa.extend([5] * 157)\n",
        "lista_etichette_train_bassa.extend([3] * 161)\n",
        "lista_etichette_train_bassa.extend([6] * 157)\n",
        "\n",
        "lista_etichette_train_alta.extend([0] * 51)\n",
        "lista_etichette_train_alta.extend([1] * 51)\n",
        "lista_etichette_train_alta.extend([2] * 52)\n",
        "lista_etichette_train_alta.extend([4] * 48)\n",
        "lista_etichette_train_alta.extend([5] * 46)\n",
        "lista_etichette_train_alta.extend([3] * 48)\n",
        "lista_etichette_train_alta.extend([6] * 46)\n",
        "\n",
        "print(\"andrea alto: \" + str(len(lista_etichette_train_alta)))\n",
        "print(\"andrea basso: \"+ str(len(lista_etichette_train_bassa)))"
      ]
    },
    {
      "cell_type": "code",
      "execution_count": 88,
      "metadata": {
        "id": "bQ3tCEqZecZ-"
      },
      "outputs": [],
      "source": [
        "#ALTE\n",
        "from tensorflow.keras.models import Model\n",
        "from tensorflow.keras.layers import Input, SeparableConv1D, MaxPooling1D, GlobalMaxPooling1D, Dense, Add\n",
        "import tensorflow as tf\n",
        "\n",
        "# Input Layer\n",
        "input_layer = Input(shape=(60000, 1))\n",
        "\n",
        "# Separable_Conv1D_1\n",
        "conv1 =  SeparableConv1D(10, kernel_size=3, strides=1, padding='same', activation='relu')(input_layer)\n",
        "conv1_mp = MaxPooling1D(pool_size=2, padding='same')(conv1)\n",
        "\n",
        "# Separable_Conv1D_2\n",
        "conv2 =  SeparableConv1D(20, kernel_size=3, strides=1, padding='same', activation='relu')(conv1_mp)\n",
        "conv2_mp = MaxPooling1D(pool_size=2, padding='same')(conv2)\n",
        "\n",
        "# Separable_Conv1D_3\n",
        "conv3 =  SeparableConv1D(20, kernel_size=3, strides=4, padding='same', activation='relu')(input_layer)\n",
        "\n",
        "# Residual Layer 1\n",
        "residual1 = Add()([conv2_mp, conv3])\n",
        "\n",
        "\n",
        "# Residual Layer 2\n",
        "sep_conv_4 = SeparableConv1D(40, kernel_size=3, activation='relu', padding='same')(residual1)\n",
        "sep_conv_5 = SeparableConv1D(40, kernel_size=3, activation='relu', padding='same')(sep_conv_4)\n",
        "sep_conv6 = SeparableConv1D(40, kernel_size=3, strides=4, activation='relu', padding='same')(input_layer)\n",
        "residual2= Add()([sep_conv_5, sep_conv6])\n",
        "\n",
        "\n",
        "# Global Max Pooling\n",
        "global_max_pooling = GlobalMaxPooling1D()(residual2)\n",
        "\n",
        "# Dense Layer\n",
        "dense_layer = Dense(35, activation='relu')(global_max_pooling)\n",
        "\n",
        "# Softmax Layer\n",
        "softmax_layer = Dense(7, activation='softmax')(dense_layer)\n",
        "\n"
      ]
    },
    {
      "cell_type": "code",
      "source": [
        "from tensorflow.keras.models import Model\n",
        "from tensorflow.keras.layers import Input, SeparableConv1D, MaxPooling1D, GlobalMaxPooling1D, Dense, Add\n",
        "import tensorflow as tf\n",
        "\n",
        "# Input Layer\n",
        "input_layer_basse = Input(shape=(60000, 1))\n",
        "\n",
        "# Separable_Conv1D_1\n",
        "conv1_basse =  SeparableConv1D(32, kernel_size=3, strides=1, padding='same', activation='relu')(input_layer_basse)\n",
        "conv1_mp_basse = MaxPooling1D(pool_size=2, padding='same')(conv1_basse)\n",
        "\n",
        "# Separable_Conv1D_2\n",
        "conv2_basse =  SeparableConv1D(64, kernel_size=3, strides=1, padding='same', activation='relu')(conv1_mp_basse)\n",
        "conv2_mp_basse = MaxPooling1D(pool_size=2, padding='same')(conv2_basse)\n",
        "\n",
        "# Separable_Conv1D_3\n",
        "conv3_basse =  SeparableConv1D(64, kernel_size=3, strides=4, padding='same', activation='relu')(input_layer_basse)\n",
        "\n",
        "# Residual Layer 1\n",
        "residual1_basse = Add()([conv2_mp_basse, conv3_basse])\n",
        "\n",
        "\n",
        "# Residual Layer 2\n",
        "sep_conv_4_basse = SeparableConv1D(128, kernel_size=3, activation='relu', padding='same')(residual1_basse)\n",
        "sep_conv_5_basse = SeparableConv1D(128, kernel_size=3, activation='relu', padding='same')(sep_conv_4_basse)\n",
        "sep_conv6_basse = SeparableConv1D(128, kernel_size=3, strides=4, activation='relu', padding='same')(input_layer_basse)\n",
        "residual2_basse= Add()([sep_conv_5_basse, sep_conv6_basse])\n",
        "\n",
        "\n",
        "# Global Max Pooling\n",
        "global_max_pooling_basse = GlobalMaxPooling1D()(residual2_basse)\n",
        "\n",
        "# Dense Layer\n",
        "dense_layer_basse = Dense(100, activation='relu')(global_max_pooling_basse)\n",
        "\n",
        "# Softmax Layer\n",
        "softmax_layer_basse = Dense(7, activation='softmax')(dense_layer_basse)\n",
        "\n"
      ],
      "metadata": {
        "id": "KiNkhfi4IO2G"
      },
      "execution_count": 65,
      "outputs": []
    },
    {
      "cell_type": "code",
      "source": [
        "# Creazione del modello\n",
        "model_alto = Model(inputs=input_layer, outputs=softmax_layer)\n",
        "optimizer_alto = tf.keras.optimizers.experimental.RMSprop(\n",
        "    learning_rate=0.002,\n",
        "    rho=0.9,\n",
        "    momentum=0.0,\n",
        "    epsilon=1e-07\n",
        ")\n",
        "model_alto.compile(\n",
        "    optimizer=optimizer_alto,\n",
        "    loss='categorical_crossentropy',\n",
        "    metrics=[tf.keras.metrics.CategoricalAccuracy()]\n",
        ")\n",
        "model_alto.summary()"
      ],
      "metadata": {
        "colab": {
          "base_uri": "https://localhost:8080/"
        },
        "id": "gY4BRy50IG-n",
        "outputId": "850f8eb3-2ff1-4590-ef38-48d1256e5df1"
      },
      "execution_count": 89,
      "outputs": [
        {
          "output_type": "stream",
          "name": "stdout",
          "text": [
            "Model: \"model_8\"\n",
            "__________________________________________________________________________________________________\n",
            " Layer (type)                Output Shape                 Param #   Connected to                  \n",
            "==================================================================================================\n",
            " input_6 (InputLayer)        [(None, 60000, 1)]           0         []                            \n",
            "                                                                                                  \n",
            " separable_conv1d_30 (Separ  (None, 60000, 10)            23        ['input_6[0][0]']             \n",
            " ableConv1D)                                                                                      \n",
            "                                                                                                  \n",
            " max_pooling1d_10 (MaxPooli  (None, 30000, 10)            0         ['separable_conv1d_30[0][0]'] \n",
            " ng1D)                                                                                            \n",
            "                                                                                                  \n",
            " separable_conv1d_31 (Separ  (None, 30000, 20)            250       ['max_pooling1d_10[0][0]']    \n",
            " ableConv1D)                                                                                      \n",
            "                                                                                                  \n",
            " max_pooling1d_11 (MaxPooli  (None, 15000, 20)            0         ['separable_conv1d_31[0][0]'] \n",
            " ng1D)                                                                                            \n",
            "                                                                                                  \n",
            " separable_conv1d_32 (Separ  (None, 15000, 20)            43        ['input_6[0][0]']             \n",
            " ableConv1D)                                                                                      \n",
            "                                                                                                  \n",
            " add_10 (Add)                (None, 15000, 20)            0         ['max_pooling1d_11[0][0]',    \n",
            "                                                                     'separable_conv1d_32[0][0]'] \n",
            "                                                                                                  \n",
            " separable_conv1d_33 (Separ  (None, 15000, 40)            900       ['add_10[0][0]']              \n",
            " ableConv1D)                                                                                      \n",
            "                                                                                                  \n",
            " separable_conv1d_34 (Separ  (None, 15000, 40)            1760      ['separable_conv1d_33[0][0]'] \n",
            " ableConv1D)                                                                                      \n",
            "                                                                                                  \n",
            " separable_conv1d_35 (Separ  (None, 15000, 40)            83        ['input_6[0][0]']             \n",
            " ableConv1D)                                                                                      \n",
            "                                                                                                  \n",
            " add_11 (Add)                (None, 15000, 40)            0         ['separable_conv1d_34[0][0]', \n",
            "                                                                     'separable_conv1d_35[0][0]'] \n",
            "                                                                                                  \n",
            " global_max_pooling1d_5 (Gl  (None, 40)                   0         ['add_11[0][0]']              \n",
            " obalMaxPooling1D)                                                                                \n",
            "                                                                                                  \n",
            " dense_10 (Dense)            (None, 35)                   1435      ['global_max_pooling1d_5[0][0]\n",
            "                                                                    ']                            \n",
            "                                                                                                  \n",
            " dense_11 (Dense)            (None, 7)                    252       ['dense_10[0][0]']            \n",
            "                                                                                                  \n",
            "==================================================================================================\n",
            "Total params: 4746 (18.54 KB)\n",
            "Trainable params: 4746 (18.54 KB)\n",
            "Non-trainable params: 0 (0.00 Byte)\n",
            "__________________________________________________________________________________________________\n"
          ]
        }
      ]
    },
    {
      "cell_type": "code",
      "source": [
        "model_basso = Model(inputs=input_layer_basse, outputs=softmax_layer_basse)\n",
        "optimizer_basso = tf.keras.optimizers.experimental.RMSprop(\n",
        "    learning_rate=0.002,\n",
        "    rho=0.9,\n",
        "    momentum=0.0,\n",
        "    epsilon=1e-07\n",
        ")\n",
        "model_basso.compile(\n",
        "    optimizer=optimizer_basso,\n",
        "    loss='categorical_crossentropy',\n",
        "    metrics=[tf.keras.metrics.CategoricalAccuracy()]\n",
        ")"
      ],
      "metadata": {
        "id": "I3zDM3FsJVNX"
      },
      "execution_count": 67,
      "outputs": []
    },
    {
      "cell_type": "code",
      "execution_count": 68,
      "metadata": {
        "id": "WFJfZDBWecZ-"
      },
      "outputs": [],
      "source": [
        "x_train_alta = np.asarray(lista_train_alta)\n",
        "x_train_bassa = np.asarray(lista_train_bassa)\n",
        "\n",
        "y_train_alta = tf.keras.utils.to_categorical(lista_etichette_train_alta)\n",
        "y_train_bassa = tf.keras.utils.to_categorical(lista_etichette_train_bassa)"
      ]
    },
    {
      "cell_type": "code",
      "execution_count": null,
      "metadata": {
        "colab": {
          "base_uri": "https://localhost:8080/"
        },
        "id": "ZafLqKkAecZ_",
        "outputId": "589e69e7-bebc-4cb4-dcd3-b75e5a998d86"
      },
      "outputs": [
        {
          "output_type": "stream",
          "name": "stdout",
          "text": [
            "Epoch 1/150\n"
          ]
        }
      ],
      "source": [
        "model_alto.fit(x_train_alta,y_train_alta, epochs=150)\n",
        "#model_basso.fit(x_train_bassa,y_train_bassa, epochs=100)"
      ]
    },
    {
      "cell_type": "code",
      "execution_count": 43,
      "metadata": {
        "colab": {
          "base_uri": "https://localhost:8080/"
        },
        "id": "T05eIZ_6ecZ_",
        "outputId": "2b97e96b-b7a0-41c5-eb03-2131f1f68f74"
      },
      "outputs": [
        {
          "output_type": "stream",
          "name": "stdout",
          "text": [
            "bassa_test: 59\n",
            "alta_test: 18\n"
          ]
        }
      ],
      "source": [
        "i = 1\n",
        "cartella = r'/content/drive/MyDrive/Progetto_manutenzione/hold_out_test/Pitting_degradation_level_0 (Healthy)'\n",
        "lev0_bassa_test = []\n",
        "lev0_alta_test = []\n",
        "for filename in os.listdir(cartella):\n",
        "    # Costruisci il percorso completo del file\n",
        "    percorso_file = os.path.join(cartella, filename)\n",
        "\n",
        "    # Leggi solo la terza colonna del file CSV in un DataFrame e assegna un nome dinamico\n",
        "\n",
        "    df= pd.read_csv(percorso_file, usecols=[0])\n",
        "    df.name = f\"df_{i}\"\n",
        "    if any(codice in filename for codice in velocita_alte):\n",
        "      lev0_alta_test.append(df[\"acc_X\"].values)\n",
        "    else: lev0_bassa_test.append(df[\"acc_X\"].values)\n",
        "    # Stampa le prime righe del DataFrame appena creato\n",
        "    #print(df.name)\n",
        "    #print(df.head())\n",
        "\n",
        "    i += 1\n",
        "print(\"bassa_test: \"+ str(len(lev0_bassa_test)))\n",
        "print(\"alta_test: \"+ str(len(lev0_alta_test)))"
      ]
    },
    {
      "cell_type": "code",
      "execution_count": 44,
      "metadata": {
        "colab": {
          "base_uri": "https://localhost:8080/"
        },
        "id": "DaYMdIO7ecZ_",
        "outputId": "a4a0bf36-9f4d-41fe-a825-ba0c9773290b"
      },
      "outputs": [
        {
          "output_type": "stream",
          "name": "stdout",
          "text": [
            "bassa_test: 60\n",
            "alta_test: 18\n"
          ]
        }
      ],
      "source": [
        "cartella = r'/content/drive/MyDrive/Progetto_manutenzione/hold_out_test/Pitting_degradation_level_1'\n",
        "lev1_bassa_test = []\n",
        "lev1_alta_test = []\n",
        "for filename in os.listdir(cartella):\n",
        "    # Costruisci il percorso completo del file\n",
        "    percorso_file = os.path.join(cartella, filename)\n",
        "\n",
        "    # Leggi solo la terza colonna del file CSV in un DataFrame e assegna un nome dinamico\n",
        "\n",
        "    df= pd.read_csv(percorso_file, usecols=[0])\n",
        "    df.name = f\"df_{i}\"\n",
        "    if any(codice in filename for codice in velocita_alte):\n",
        "      lev1_alta_test.append(df[\"acc_X\"].values)\n",
        "    else: lev1_bassa_test.append(df[\"acc_X\"].values)\n",
        "    # Stampa le prime righe del DataFrame appena creato\n",
        "    #print(df.name)\n",
        "    #print(df.head())\n",
        "\n",
        "    i += 1\n",
        "print(\"bassa_test: \"+ str(len(lev1_bassa_test)))\n",
        "print(\"alta_test: \"+ str(len(lev1_alta_test)))"
      ]
    },
    {
      "cell_type": "code",
      "execution_count": 45,
      "metadata": {
        "colab": {
          "base_uri": "https://localhost:8080/"
        },
        "id": "SFvF7UveecaA",
        "outputId": "ecde87e9-322b-4de2-83a0-bdff18bc04c1"
      },
      "outputs": [
        {
          "output_type": "stream",
          "name": "stdout",
          "text": [
            "bassa_test: 60\n",
            "alta_test: 18\n"
          ]
        }
      ],
      "source": [
        "cartella = r'/content/drive/MyDrive/Progetto_manutenzione/hold_out_test/Pitting_degradation_level_2'\n",
        "lev2_bassa_test = []\n",
        "lev2_alta_test = []\n",
        "for filename in os.listdir(cartella):\n",
        "    # Costruisci il percorso completo del file\n",
        "    percorso_file = os.path.join(cartella, filename)\n",
        "\n",
        "    # Leggi solo la terza colonna del file CSV in un DataFrame e assegna un nome dinamico\n",
        "\n",
        "    df= pd.read_csv(percorso_file, usecols=[0])\n",
        "    df.name = f\"df_{i}\"\n",
        "    if any(codice in filename for codice in velocita_alte):\n",
        "      lev2_alta_test.append(df[\"acc_X\"].values)\n",
        "    else: lev2_bassa_test.append(df[\"acc_X\"].values)\n",
        "    # Stampa le prime righe del DataFrame appena creato\n",
        "    #print(df.name)\n",
        "    #print(df.head())\n",
        "\n",
        "    i += 1\n",
        "print(\"bassa_test: \"+ str(len(lev2_bassa_test)))\n",
        "print(\"alta_test: \"+ str(len(lev2_alta_test)))"
      ]
    },
    {
      "cell_type": "code",
      "execution_count": 46,
      "metadata": {
        "colab": {
          "base_uri": "https://localhost:8080/"
        },
        "id": "Np5pl9CLecaA",
        "outputId": "f90ebc95-1189-4221-8adb-2f8b7f4e81a7"
      },
      "outputs": [
        {
          "output_type": "stream",
          "name": "stdout",
          "text": [
            "bassa_test: 60\n",
            "alta_test: 18\n"
          ]
        }
      ],
      "source": [
        "cartella = r'/content/drive/MyDrive/Progetto_manutenzione/hold_out_test/Pitting_degradation_level_3'\n",
        "lev3_bassa_test = []\n",
        "lev3_alta_test = []\n",
        "for filename in os.listdir(cartella):\n",
        "    # Costruisci il percorso completo del file\n",
        "    percorso_file = os.path.join(cartella, filename)\n",
        "\n",
        "    # Leggi solo la terza colonna del file CSV in un DataFrame e assegna un nome dinamico\n",
        "\n",
        "    df= pd.read_csv(percorso_file, usecols=[0])\n",
        "    df.name = f\"df_{i}\"\n",
        "    if any(codice in filename for codice in velocita_alte):\n",
        "      lev3_alta_test.append(df[\"acc_X\"].values)\n",
        "    else: lev3_bassa_test.append(df[\"acc_X\"].values)\n",
        "    # Stampa le prime righe del DataFrame appena creato\n",
        "    #print(df.name)\n",
        "    #print(df.head())\n",
        "\n",
        "    i += 1\n",
        "print(\"bassa_test: \"+ str(len(lev3_bassa_test)))\n",
        "print(\"alta_test: \"+ str(len(lev3_alta_test)))"
      ]
    },
    {
      "cell_type": "code",
      "execution_count": 47,
      "metadata": {
        "colab": {
          "base_uri": "https://localhost:8080/"
        },
        "id": "LnK0YT5kecaA",
        "outputId": "79bd3219-e097-46cd-b39f-8498d325d939"
      },
      "outputs": [
        {
          "output_type": "stream",
          "name": "stdout",
          "text": [
            "bassa_test: 60\n",
            "alta_test: 18\n"
          ]
        }
      ],
      "source": [
        "cartella = r'/content/drive/MyDrive/Progetto_manutenzione/hold_out_test/Pitting_degradation_level_4'\n",
        "lev4_bassa_test = []\n",
        "lev4_alta_test = []\n",
        "for filename in os.listdir(cartella):\n",
        "    # Costruisci il percorso completo del file\n",
        "    percorso_file = os.path.join(cartella, filename)\n",
        "\n",
        "    # Leggi solo la terza colonna del file CSV in un DataFrame e assegna un nome dinamico\n",
        "\n",
        "    df= pd.read_csv(percorso_file, usecols=[0])\n",
        "    df.name = f\"df_{i}\"\n",
        "    if any(codice in filename for codice in velocita_alte):\n",
        "      lev4_alta_test.append(df[\"acc_X\"].values)\n",
        "    else: lev4_bassa_test.append(df[\"acc_X\"].values)\n",
        "    # Stampa le prime righe del DataFrame appena creato\n",
        "    #print(df.name)\n",
        "    #print(df.head())\n",
        "\n",
        "    i += 1\n",
        "print(\"bassa_test: \"+ str(len(lev4_bassa_test)))\n",
        "print(\"alta_test: \"+ str(len(lev4_alta_test)))"
      ]
    },
    {
      "cell_type": "code",
      "execution_count": 48,
      "metadata": {
        "colab": {
          "base_uri": "https://localhost:8080/"
        },
        "id": "uFQ5H3nhecaB",
        "outputId": "be995183-1357-4a13-af56-fac4a0856336"
      },
      "outputs": [
        {
          "output_type": "stream",
          "name": "stdout",
          "text": [
            "bassa_test: 60\n",
            "alta_test: 18\n"
          ]
        }
      ],
      "source": [
        "cartella = r'/content/drive/MyDrive/Progetto_manutenzione/hold_out_test/Pitting_degradation_level_6'\n",
        "lev5_bassa_test = []\n",
        "lev5_alta_test = []\n",
        "for filename in os.listdir(cartella):\n",
        "    # Costruisci il percorso completo del file\n",
        "    percorso_file = os.path.join(cartella, filename)\n",
        "\n",
        "    # Leggi solo la terza colonna del file CSV in un DataFrame e assegna un nome dinamico\n",
        "\n",
        "    df= pd.read_csv(percorso_file, usecols=[0])\n",
        "    df.name = f\"df_{i}\"\n",
        "    if any(codice in filename for codice in velocita_alte):\n",
        "      lev5_alta_test.append(df[\"acc_X\"].values)\n",
        "    else: lev5_bassa_test.append(df[\"acc_X\"].values)\n",
        "    # Stampa le prime righe del DataFrame appena creato\n",
        "    #print(df.name)\n",
        "    #print(df.head())\n",
        "\n",
        "    i += 1\n",
        "print(\"bassa_test: \"+ str(len(lev5_bassa_test)))\n",
        "print(\"alta_test: \"+ str(len(lev5_alta_test)))"
      ]
    },
    {
      "cell_type": "code",
      "execution_count": 49,
      "metadata": {
        "colab": {
          "base_uri": "https://localhost:8080/"
        },
        "id": "mrb8rKc6ecaB",
        "outputId": "63dac35e-f85f-43a1-c7c3-d90e0218fa00"
      },
      "outputs": [
        {
          "output_type": "stream",
          "name": "stdout",
          "text": [
            "bassa_test: 60\n",
            "alta_test: 18\n"
          ]
        }
      ],
      "source": [
        "cartella = r'/content/drive/MyDrive/Progetto_manutenzione/hold_out_test/Pitting_degradation_level_8'\n",
        "lev6_bassa_test = []\n",
        "lev6_alta_test = []\n",
        "for filename in os.listdir(cartella):\n",
        "    # Costruisci il percorso completo del file\n",
        "    percorso_file = os.path.join(cartella, filename)\n",
        "\n",
        "    # Leggi solo la terza colonna del file CSV in un DataFrame e assegna un nome dinamico\n",
        "\n",
        "    df= pd.read_csv(percorso_file, usecols=[0])\n",
        "    df.name = f\"df_{i}\"\n",
        "    if any(codice in filename for codice in velocita_alte):\n",
        "      lev6_alta_test.append(df[\"acc_X\"].values)\n",
        "    else: lev6_bassa_test.append(df[\"acc_X\"].values)\n",
        "    # Stampa le prime righe del DataFrame appena creato\n",
        "    #print(df.name)\n",
        "    #print(df.head())\n",
        "\n",
        "    i += 1\n",
        "print(\"bassa_test: \"+ str(len(lev6_bassa_test)))\n",
        "print(\"alta_test: \"+ str(len(lev6_alta_test)))"
      ]
    },
    {
      "cell_type": "code",
      "source": [
        "lista_test_alta = lev0_alta_test + lev1_alta_test + lev2_alta_test + lev3_alta_test + lev4_alta_test + lev5_alta_test + lev6_alta_test\n",
        "print(\"Michele gay alto: \"+ str(len(lista_test_alta)))\n",
        "lista_test_bassa = lev0_bassa_test + lev1_bassa_test + lev2_bassa_test + lev3_bassa_test + lev4_bassa_test + lev5_bassa_test + lev6_bassa_test\n",
        "print(\"Michele gay basso: \" + str(len(lista_test_bassa)))"
      ],
      "metadata": {
        "colab": {
          "base_uri": "https://localhost:8080/"
        },
        "id": "tJBRvjKC7OhL",
        "outputId": "8bd97fb5-e417-4049-9c03-609c07fa0306"
      },
      "execution_count": 50,
      "outputs": [
        {
          "output_type": "stream",
          "name": "stdout",
          "text": [
            "Michele gay alto: 126\n",
            "Michele gay basso: 419\n"
          ]
        }
      ]
    },
    {
      "cell_type": "code",
      "source": [
        "lista_etichette_test_alta = []\n",
        "lista_etichette_test_bassa = []\n",
        "\n",
        "lista_etichette_test_alta.extend([0] * 18)\n",
        "lista_etichette_test_alta.extend([1] * 18)\n",
        "lista_etichette_test_alta.extend([2] * 18)\n",
        "lista_etichette_test_alta.extend([3] * 18)\n",
        "lista_etichette_test_alta.extend([4] * 18)\n",
        "lista_etichette_test_alta.extend([5] * 18)\n",
        "lista_etichette_test_alta.extend([6] * 18)\n",
        "\n",
        "lista_etichette_test_bassa.extend([0] * 59)\n",
        "lista_etichette_test_bassa.extend([1] * 60)\n",
        "lista_etichette_test_bassa.extend([2] * 60)\n",
        "lista_etichette_test_bassa.extend([3] * 60)\n",
        "lista_etichette_test_bassa.extend([4] * 60)\n",
        "lista_etichette_test_bassa.extend([5] * 60)\n",
        "lista_etichette_test_bassa.extend([6] * 60)\n",
        "\n",
        "print(\"Michele stronzo alto: \" + str(len(lista_etichette_test_alta)))\n",
        "print(\"Michele stronzo basso: \" + str(len(lista_etichette_test_bassa)))"
      ],
      "metadata": {
        "colab": {
          "base_uri": "https://localhost:8080/"
        },
        "id": "x9TxG0w0MuzV",
        "outputId": "a83acf80-7e20-45b9-b877-035faed64acc"
      },
      "execution_count": 51,
      "outputs": [
        {
          "output_type": "stream",
          "name": "stdout",
          "text": [
            "Michele stronzo alto: 126\n",
            "Michele stronzo basso: 419\n"
          ]
        }
      ]
    },
    {
      "cell_type": "code",
      "execution_count": 55,
      "metadata": {
        "id": "9vIHsfMCecaB"
      },
      "outputs": [],
      "source": [
        "x_test_alta = np.asarray(lista_test_alta)\n",
        "x_test_bassa = np.asarray(lista_test_bassa)\n",
        "y_test_alta = tf.keras.utils.to_categorical(np.asarray(lista_etichette_test_alta))\n",
        "y_test_bassa = tf.keras.utils.to_categorical(np.asarray(lista_etichette_test_bassa))"
      ]
    },
    {
      "cell_type": "code",
      "execution_count": 83,
      "metadata": {
        "colab": {
          "base_uri": "https://localhost:8080/"
        },
        "id": "KyrRvqoJecaC",
        "outputId": "05a60867-29fd-4ea2-8ff8-d7f7210ef733"
      },
      "outputs": [
        {
          "output_type": "stream",
          "name": "stdout",
          "text": [
            "4/4 [==============================] - 1s 232ms/step - loss: 3.6150 - categorical_accuracy: 0.3810\n",
            "14/14 [==============================] - 1s 80ms/step - loss: 3.6415 - categorical_accuracy: 0.6635\n",
            "[3.614980459213257, 0.380952388048172]\n",
            "[3.641519784927368, 0.663484513759613]\n"
          ]
        }
      ],
      "source": [
        "evaluation_alta = model_alto.evaluate(x_test_alta, y_test_alta)\n",
        "evaluation_bassa = model_basso.evaluate(x_test_bassa, y_test_bassa)\n",
        "\n",
        "print(evaluation_alta)\n",
        "print(evaluation_bassa)"
      ]
    },
    {
      "cell_type": "code",
      "source": [
        "prediction_alta = model_alto.predict(x_test_alta)\n",
        "prediction_bassa = model_basso.predict(x_test_bassa)"
      ],
      "metadata": {
        "colab": {
          "base_uri": "https://localhost:8080/"
        },
        "id": "a-TlTiEi3hw8",
        "outputId": "be9bce87-9c07-49d6-daaa-40dda44fe1e1"
      },
      "execution_count": 84,
      "outputs": [
        {
          "output_type": "stream",
          "name": "stdout",
          "text": [
            "4/4 [==============================] - 0s 54ms/step\n",
            "14/14 [==============================] - 1s 80ms/step\n"
          ]
        }
      ]
    },
    {
      "cell_type": "code",
      "source": [
        "# Trova l'indice della classe con la probabilità più alta per ciascun vettore di probabilità\n",
        "indici_classi_predette_alte = np.argmax(prediction_alta, axis=1)\n",
        "# Crea la matrice one-hot\n",
        "matrice_one_hot = np.eye(prediction_alta.shape[1])[indici_classi_predette_alte]\n",
        "\n",
        "from sklearn.metrics import precision_score, recall_score\n",
        "print(precision_score(y_test_alta,matrice_one_hot, average='macro'))\n",
        "print(recall_score(y_test_alta,matrice_one_hot, average='macro'))"
      ],
      "metadata": {
        "colab": {
          "base_uri": "https://localhost:8080/"
        },
        "id": "gWjYR3S7434U",
        "outputId": "ed480f3f-7eed-437f-f876-23c458575fec"
      },
      "execution_count": 85,
      "outputs": [
        {
          "output_type": "stream",
          "name": "stdout",
          "text": [
            "0.382123156791879\n",
            "0.3809523809523809\n"
          ]
        },
        {
          "output_type": "stream",
          "name": "stderr",
          "text": [
            "/usr/local/lib/python3.10/dist-packages/sklearn/metrics/_classification.py:1344: UndefinedMetricWarning: Precision is ill-defined and being set to 0.0 in labels with no predicted samples. Use `zero_division` parameter to control this behavior.\n",
            "  _warn_prf(average, modifier, msg_start, len(result))\n"
          ]
        }
      ]
    },
    {
      "cell_type": "code",
      "source": [
        "from sklearn.metrics import confusion_matrix\n",
        "# Converte la matrice one-hot in etichette predette\n",
        "etichette_predette_alte = np.argmax(matrice_one_hot, axis=1)\n",
        "\n",
        "# Converte y_test in etichette reali\n",
        "etichette_reali = np.argmax(y_test_alta, axis=1)\n",
        "\n",
        "# Calcola la matrice di confusione\n",
        "matrice_confusione_alta = confusion_matrix(etichette_reali, etichette_predette_alte)"
      ],
      "metadata": {
        "id": "dVBWpm0J3siV"
      },
      "execution_count": 86,
      "outputs": []
    },
    {
      "cell_type": "code",
      "source": [
        "import matplotlib.pyplot as plt\n",
        "import seaborn as sns\n",
        "\n",
        "# Plot della matrice di confusione utilizzando seaborn\n",
        "plt.figure(figsize=(8, 6))\n",
        "sns.heatmap(matrice_confusione_alta, annot=True, fmt='d', cmap='Blues')\n",
        "plt.xlabel('Classe Predetta')\n",
        "plt.ylabel('Classe Reale')\n",
        "plt.title('Matrice di Confusione Velocità alte')\n",
        "plt.show()\n"
      ],
      "metadata": {
        "colab": {
          "base_uri": "https://localhost:8080/",
          "height": 564
        },
        "id": "KWMdcJYP6i03",
        "outputId": "2cbd7549-dc7c-439d-d12d-26c42d48768d"
      },
      "execution_count": 87,
      "outputs": [
        {
          "output_type": "display_data",
          "data": {
            "text/plain": [
              "<Figure size 800x600 with 2 Axes>"
            ],
            "image/png": "[encoded data removed]"
          },
          "metadata": {}
        }
      ]
    },
    {
      "cell_type": "code",
      "source": [
        "# Trova l'indice della classe con la probabilità più alta per ciascun vettore di probabilità #BASSE\n",
        "indici_classi_predette_basse = np.argmax(prediction_bassa, axis=1)\n",
        "# Crea la matrice one-hot\n",
        "matrice_one_hot = np.eye(prediction_bassa.shape[1])[indici_classi_predette_basse]\n",
        "\n",
        "from sklearn.metrics import precision_score, recall_score\n",
        "print(precision_score(y_test_bassa,matrice_one_hot, average='macro'))\n",
        "print(recall_score(y_test_bassa,matrice_one_hot, average='macro'))"
      ],
      "metadata": {
        "colab": {
          "base_uri": "https://localhost:8080/"
        },
        "id": "0y-wuriq_0bE",
        "outputId": "fd92d561-ba8c-4e1e-ee0e-dab06a358bce"
      },
      "execution_count": 75,
      "outputs": [
        {
          "output_type": "stream",
          "name": "stdout",
          "text": [
            "0.5981401534972964\n",
            "0.6638418079096046\n"
          ]
        },
        {
          "output_type": "stream",
          "name": "stderr",
          "text": [
            "/usr/local/lib/python3.10/dist-packages/sklearn/metrics/_classification.py:1344: UndefinedMetricWarning: Precision is ill-defined and being set to 0.0 in labels with no predicted samples. Use `zero_division` parameter to control this behavior.\n",
            "  _warn_prf(average, modifier, msg_start, len(result))\n"
          ]
        }
      ]
    },
    {
      "cell_type": "code",
      "source": [
        "from sklearn.metrics import confusion_matrix\n",
        "# Converte la matrice one-hot in etichette predette\n",
        "etichette_predette_basse = np.argmax(matrice_one_hot, axis=1)\n",
        "\n",
        "# Converte y_test in etichette reali\n",
        "etichette_reali = np.argmax(y_test_bassa, axis=1)\n",
        "\n",
        "# Calcola la matrice di confusione\n",
        "matrice_confusione_bassa = confusion_matrix(etichette_reali, etichette_predette_basse)"
      ],
      "metadata": {
        "id": "g1Fbc_AIAUgw"
      },
      "execution_count": 76,
      "outputs": []
    },
    {
      "cell_type": "code",
      "source": [
        "import matplotlib.pyplot as plt\n",
        "import seaborn as sns\n",
        "\n",
        "# Plot della matrice di confusione utilizzando seaborn\n",
        "plt.figure(figsize=(8, 6))\n",
        "sns.heatmap(matrice_confusione_bassa, annot=True, fmt='d', cmap='Blues')\n",
        "plt.xlabel('Classe Predetta')\n",
        "plt.ylabel('Classe Reale')\n",
        "plt.title('Matrice di Confusione Velocità basse')\n",
        "plt.show()"
      ],
      "metadata": {
        "colab": {
          "base_uri": "https://localhost:8080/",
          "height": 564
        },
        "id": "INPNN0wlBLMp",
        "outputId": "4f4b0014-f59a-4523-93dd-3d543dd80a28"
      },
      "execution_count": 77,
      "outputs": [
        {
          "output_type": "display_data",
          "data": {
            "text/plain": [
              "<Figure size 800x600 with 2 Axes>"
            ],
            "image/png": "[encoded data removed]"
          },
          "metadata": {}
        }
      ]
    }
  ],
  "metadata": {
    "kernelspec": {
      "display_name": "Python 3",
      "name": "python3"
    },
    "language_info": {
      "codemirror_mode": {
        "name": "ipython",
        "version": 3
      },
      "file_extension": ".py",
      "mimetype": "text/x-python",
      "name": "python",
      "nbconvert_exporter": "python",
      "pygments_lexer": "ipython3",
      "version": "3.9.2"
    },
    "colab": {
      "provenance": [],
      "gpuType": "T4",
      "toc_visible": true
    },
    "accelerator": "GPU"
  },
  "nbformat": 4,
  "nbformat_minor": 0
}